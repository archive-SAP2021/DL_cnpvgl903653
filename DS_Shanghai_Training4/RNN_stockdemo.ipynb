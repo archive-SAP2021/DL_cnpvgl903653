{
 "cells": [
  {
   "cell_type": "code",
   "execution_count": 1,
   "metadata": {},
   "outputs": [
    {
     "name": "stderr",
     "output_type": "stream",
     "text": [
      "/home/dluser1/miniconda3/lib/python3.6/site-packages/h5py/__init__.py:36: FutureWarning: Conversion of the second argument of issubdtype from `float` to `np.floating` is deprecated. In future, it will be treated as `np.float64 == np.dtype(float).type`.\n",
      "  from ._conv import register_converters as _register_converters\n",
      "Using TensorFlow backend.\n"
     ]
    }
   ],
   "source": [
    "from keras.layers.core import Dense, Activation, Dropout\n",
    "from keras.layers.recurrent import LSTM\n",
    "from keras.models import Sequential\n",
    "import lstm, time #helper libraries"
   ]
  },
  {
   "cell_type": "code",
   "execution_count": 2,
   "metadata": {},
   "outputs": [],
   "source": [
    "def data_prepare():\n",
    "    # data prepare for LSTM model\n",
    "    import pandas as pd\n",
    "    # conda install -c anaconda pandas-datareader=0.4.0\n",
    "    import pandas_datareader.data as web\n",
    "    from datetime import datetime\n",
    "    start=datetime(2007, 1, 1)\n",
    "    end=datetime(2017, 1, 1)\n",
    "    # yahoo API not working? so to google\n",
    "    source='google'\n",
    "    # google stock\n",
    "    google = web.DataReader('GOOG', source, start, end)\n",
    "    # print(type(google))\n",
    "    # print(type(google['Low']))\n",
    "    #<class 'pandas.core.series.Series'>\n",
    "    # don't save pandas series of google['LOW'], just single row, see https://stackoverflow.com/questions/20845213/how-to-avoid-python-pandas-creating-an-index-in-a-saved-csv\n",
    "    # hmmm... mainland of china block google....sorry\n",
    "    google['Low'].to_csv('data/google.csv', sep='\\t', encoding='utf-8', index=False)"
   ]
  },
  {
   "cell_type": "code",
   "execution_count": 3,
   "metadata": {},
   "outputs": [],
   "source": [
    "#Step 0 prepare data\n",
    "# data_prepare()\n",
    "#see: http://www.jakob-aungiers.com/articles/a/LSTM-Neural-Network-for-Time-Series-Prediction\n",
    "#see: impelemntation of https://github.com/jaungiers/LSTM-Neural-Network-for-Time-Series-Prediction\n",
    "#Step 1 Load Data\n",
    "X_train, y_train, X_test, y_test = lstm.load_data('data/google.csv', 50, True)"
   ]
  },
  {
   "cell_type": "code",
   "execution_count": 4,
   "metadata": {},
   "outputs": [
    {
     "data": {
      "text/plain": [
       "array([[[ 0.00000000e+00],\n",
       "        [-3.27274193e-02],\n",
       "        [-1.01970900e-02],\n",
       "        ...,\n",
       "        [ 2.80964089e-01],\n",
       "        [ 3.28725162e-01],\n",
       "        [ 3.27838459e-01]],\n",
       "\n",
       "       [[ 0.00000000e+00],\n",
       "        [-7.73611111e-02],\n",
       "        [-8.91666667e-02],\n",
       "        ...,\n",
       "        [ 2.32916667e-01],\n",
       "        [ 2.74097222e-01],\n",
       "        [ 2.41458333e-01]],\n",
       "\n",
       "       [[ 0.00000000e+00],\n",
       "        [ 1.82412484e-02],\n",
       "        [ 1.88738929e-02],\n",
       "        ...,\n",
       "        [ 2.23674961e-01],\n",
       "        [ 2.47328835e-01],\n",
       "        [ 2.53479544e-01]],\n",
       "\n",
       "       ...,\n",
       "\n",
       "       [[ 0.00000000e+00],\n",
       "        [ 5.23869254e-03],\n",
       "        [ 2.13236922e-02],\n",
       "        ...,\n",
       "        [ 7.39688630e-02],\n",
       "        [ 6.51885191e-02],\n",
       "        [ 6.19788977e-02]],\n",
       "\n",
       "       [[ 0.00000000e+00],\n",
       "        [-2.63627200e-03],\n",
       "        [ 1.80274482e-02],\n",
       "        ...,\n",
       "        [ 1.70155850e-01],\n",
       "        [ 1.87059006e-01],\n",
       "        [ 1.95239203e-01]],\n",
       "\n",
       "       [[ 0.00000000e+00],\n",
       "        [-4.40599645e-03],\n",
       "        [ 1.97016102e-04],\n",
       "        ...,\n",
       "        [-2.48598499e-02],\n",
       "        [-1.68359214e-02],\n",
       "        [-4.10151702e-03]]])"
      ]
     },
     "execution_count": 4,
     "metadata": {},
     "output_type": "execute_result"
    }
   ],
   "source": [
    "X_train"
   ]
  },
  {
   "cell_type": "code",
   "execution_count": 5,
   "metadata": {},
   "outputs": [
    {
     "data": {
      "text/plain": [
       "array([ 0.33585909,  0.22444444,  0.22676789, ...,  0.06013429,\n",
       "        0.1710863 , -0.00077015])"
      ]
     },
     "execution_count": 5,
     "metadata": {},
     "output_type": "execute_result"
    }
   ],
   "source": [
    "y_train"
   ]
  },
  {
   "cell_type": "code",
   "execution_count": 6,
   "metadata": {},
   "outputs": [
    {
     "name": "stdout",
     "output_type": "stream",
     "text": [
      "WARNING:tensorflow:From /home/dluser1/miniconda3/lib/python3.6/site-packages/keras/backend/tensorflow_backend.py:1247: calling reduce_sum (from tensorflow.python.ops.math_ops) with keep_dims is deprecated and will be removed in a future version.\n",
      "Instructions for updating:\n",
      "keep_dims is deprecated, use keepdims instead\n",
      "WARNING:tensorflow:From /home/dluser1/miniconda3/lib/python3.6/site-packages/keras/backend/tensorflow_backend.py:1349: calling reduce_mean (from tensorflow.python.ops.math_ops) with keep_dims is deprecated and will be removed in a future version.\n",
      "Instructions for updating:\n",
      "keep_dims is deprecated, use keepdims instead\n"
     ]
    }
   ],
   "source": [
    "# Step 2 Build Model\n",
    "model = Sequential()\n",
    "\n",
    "model.add(LSTM(\n",
    "    input_dim=1,\n",
    "    output_dim=50,\n",
    "    return_sequences=True))\n",
    "model.add(Dropout(0.2))\n",
    "\n",
    "model.add(LSTM(\n",
    "    100,\n",
    "    return_sequences=False))\n",
    "model.add(Dropout(0.2))\n",
    "\n",
    "model.add(Dense(\n",
    "    output_dim=1))\n",
    "model.add(Activation('linear'))\n",
    "\n",
    "start = time.time()\n",
    "model.compile(loss='mse', optimizer='rmsprop')\n",
    "#print 'compilation time : ', time.time() - start"
   ]
  },
  {
   "cell_type": "code",
   "execution_count": 7,
   "metadata": {},
   "outputs": [
    {
     "name": "stdout",
     "output_type": "stream",
     "text": [
      "Train on 2109 samples, validate on 111 samples\n",
      "Epoch 1/20\n",
      "2109/2109 [==============================] - 4s 2ms/step - loss: 0.0128 - val_loss: 0.0080\n",
      "Epoch 2/20\n",
      "2109/2109 [==============================] - 1s 592us/step - loss: 0.0037 - val_loss: 0.0032\n",
      "Epoch 3/20\n",
      "2109/2109 [==============================] - 1s 528us/step - loss: 0.0025 - val_loss: 0.0028\n",
      "Epoch 4/20\n",
      "2109/2109 [==============================] - 1s 525us/step - loss: 0.0023 - val_loss: 0.0037\n",
      "Epoch 5/20\n",
      "2109/2109 [==============================] - 1s 524us/step - loss: 0.0022 - val_loss: 0.0023\n",
      "Epoch 6/20\n",
      "2109/2109 [==============================] - 1s 544us/step - loss: 0.0019 - val_loss: 0.0032\n",
      "Epoch 7/20\n",
      "2109/2109 [==============================] - 1s 534us/step - loss: 0.0019 - val_loss: 0.0021\n",
      "Epoch 8/20\n",
      "2109/2109 [==============================] - 1s 549us/step - loss: 0.0016 - val_loss: 0.0024\n",
      "Epoch 9/20\n",
      "2109/2109 [==============================] - 1s 522us/step - loss: 0.0017 - val_loss: 0.0021\n",
      "Epoch 10/20\n",
      "2109/2109 [==============================] - 1s 529us/step - loss: 0.0019 - val_loss: 0.0019\n",
      "Epoch 11/20\n",
      "2109/2109 [==============================] - 1s 533us/step - loss: 0.0017 - val_loss: 0.0018\n",
      "Epoch 12/20\n",
      "2109/2109 [==============================] - 1s 531us/step - loss: 0.0016 - val_loss: 0.0016\n",
      "Epoch 13/20\n",
      "2109/2109 [==============================] - 1s 513us/step - loss: 0.0013 - val_loss: 0.0020\n",
      "Epoch 14/20\n",
      "2109/2109 [==============================] - 1s 518us/step - loss: 0.0016 - val_loss: 0.0016\n",
      "Epoch 15/20\n",
      "2109/2109 [==============================] - 1s 528us/step - loss: 0.0013 - val_loss: 0.0016\n",
      "Epoch 16/20\n",
      "2109/2109 [==============================] - 1s 510us/step - loss: 0.0013 - val_loss: 0.0015\n",
      "Epoch 17/20\n",
      "2109/2109 [==============================] - 1s 534us/step - loss: 0.0015 - val_loss: 0.0015\n",
      "Epoch 18/20\n",
      "2109/2109 [==============================] - 1s 552us/step - loss: 0.0012 - val_loss: 0.0018\n",
      "Epoch 19/20\n",
      "2109/2109 [==============================] - 1s 525us/step - loss: 0.0015 - val_loss: 0.0014\n",
      "Epoch 20/20\n",
      "2109/2109 [==============================] - 1s 537us/step - loss: 0.0012 - val_loss: 0.0013\n"
     ]
    },
    {
     "data": {
      "text/plain": [
       "<keras.callbacks.History at 0x7fc20fcf2eb8>"
      ]
     },
     "execution_count": 7,
     "metadata": {},
     "output_type": "execute_result"
    }
   ],
   "source": [
    "#Step 3 Train the model\n",
    "model.fit(\n",
    "    X_train,\n",
    "    y_train,\n",
    "    batch_size=512,\n",
    "    nb_epoch=20,\n",
    "    validation_split=0.05)"
   ]
  },
  {
   "cell_type": "code",
   "execution_count": 8,
   "metadata": {},
   "outputs": [
    {
     "data": {
      "image/png": "[encoded data removed]",
      "text/plain": [
       "<matplotlib.figure.Figure at 0x7fc20c277b38>"
      ]
     },
     "metadata": {},
     "output_type": "display_data"
    }
   ],
   "source": [
    "#Step 4 - Plot the predictions!\n",
    "predictions = lstm.predict_sequences_multiple(model, X_test, 50, 50)\n",
    "lstm.plot_results_multiple(predictions, y_test, 50)"
   ]
  },
  {
   "cell_type": "code",
   "execution_count": null,
   "metadata": {},
   "outputs": [],
   "source": []
  }
 ],
 "metadata": {
  "kernelspec": {
   "display_name": "Python 3",
   "language": "python",
   "name": "python3"
  },
  "language_info": {
   "codemirror_mode": {
    "name": "ipython",
    "version": 3
   },
   "file_extension": ".py",
   "mimetype": "text/x-python",
   "name": "python",
   "nbconvert_exporter": "python",
   "pygments_lexer": "ipython3",
   "version": "3.6.4"
  }
 },
 "nbformat": 4,
 "nbformat_minor": 2
}
