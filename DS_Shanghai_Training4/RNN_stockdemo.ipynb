{
 "cells": [
  {
   "cell_type": "code",
   "execution_count": 1,
   "metadata": {},
   "outputs": [
    {
     "name": "stderr",
     "output_type": "stream",
     "text": [
      "Using TensorFlow backend.\n"
     ]
    }
   ],
   "source": [
    "from keras.layers.core import Dense, Activation, Dropout\n",
    "from keras.layers.recurrent import LSTM\n",
    "from keras.models import Sequential\n",
    "import lstm, time #helper libraries"
   ]
  },
  {
   "cell_type": "code",
   "execution_count": 2,
   "metadata": {
    "collapsed": true
   },
   "outputs": [],
   "source": [
    "def data_prepare():\n",
    "    # data prepare for LSTM model\n",
    "    import pandas as pd\n",
    "    # conda install -c anaconda pandas-datareader=0.4.0\n",
    "    import pandas_datareader.data as web\n",
    "    from datetime import datetime\n",
    "    start=datetime(2007, 1, 1)\n",
    "    end=datetime(2017, 1, 1)\n",
    "    # yahoo API not working? so to google\n",
    "    source='google'\n",
    "    # google stock\n",
    "    google = web.DataReader('GOOG', source, start, end)\n",
    "    # print(type(google))\n",
    "    # print(type(google['Low']))\n",
    "    #<class 'pandas.core.series.Series'>\n",
    "    # don't save pandas series of google['LOW'], just single row, see https://stackoverflow.com/questions/20845213/how-to-avoid-python-pandas-creating-an-index-in-a-saved-csv\n",
    "    # hmmm... mainland of china block google....sorry\n",
    "    google['Low'].to_csv('data/google.csv', sep='\\t', encoding='utf-8', index=False)"
   ]
  },
  {
   "cell_type": "code",
   "execution_count": 3,
   "metadata": {
    "collapsed": true
   },
   "outputs": [],
   "source": [
    "#Step 0 prepare data\n",
    "data_prepare()\n",
    "#see: http://www.jakob-aungiers.com/articles/a/LSTM-Neural-Network-for-Time-Series-Prediction\n",
    "#see: impelemntation of https://github.com/jaungiers/LSTM-Neural-Network-for-Time-Series-Prediction\n",
    "#Step 1 Load Data\n",
    "X_train, y_train, X_test, y_test = lstm.load_data('data/google.csv', 50, True)"
   ]
  },
  {
   "cell_type": "code",
   "execution_count": 4,
   "metadata": {
    "collapsed": true
   },
   "outputs": [],
   "source": [
    "# Step 2 Build Model\n",
    "model = Sequential()\n",
    "\n",
    "model.add(LSTM(\n",
    "    input_dim=1,\n",
    "    output_dim=50,\n",
    "    return_sequences=True))\n",
    "model.add(Dropout(0.2))\n",
    "\n",
    "model.add(LSTM(\n",
    "    100,\n",
    "    return_sequences=False))\n",
    "model.add(Dropout(0.2))\n",
    "\n",
    "model.add(Dense(\n",
    "    output_dim=1))\n",
    "model.add(Activation('linear'))\n",
    "\n",
    "start = time.time()\n",
    "model.compile(loss='mse', optimizer='rmsprop')\n",
    "#print 'compilation time : ', time.time() - start"
   ]
  },
  {
   "cell_type": "code",
   "execution_count": 5,
   "metadata": {},
   "outputs": [
    {
     "name": "stdout",
     "output_type": "stream",
     "text": [
      "Train on 2109 samples, validate on 111 samples\n",
      "Epoch 1/20\n",
      "2109/2109 [==============================] - 2s - loss: 0.0101 - val_loss: 0.0031\n",
      "Epoch 2/20\n",
      "2109/2109 [==============================] - 0s - loss: 0.0032 - val_loss: 0.0022\n",
      "Epoch 3/20\n",
      "2109/2109 [==============================] - 0s - loss: 0.0024 - val_loss: 0.0025\n",
      "Epoch 4/20\n",
      "2109/2109 [==============================] - 0s - loss: 0.0024 - val_loss: 0.0018\n",
      "Epoch 5/20\n",
      "2109/2109 [==============================] - 0s - loss: 0.0020 - val_loss: 0.0014\n",
      "Epoch 6/20\n",
      "2109/2109 [==============================] - 0s - loss: 0.0017 - val_loss: 0.0013\n",
      "Epoch 7/20\n",
      "2109/2109 [==============================] - 1s - loss: 0.0025 - val_loss: 0.0013\n",
      "Epoch 8/20\n",
      "2109/2109 [==============================] - 0s - loss: 0.0017 - val_loss: 0.0013\n",
      "Epoch 9/20\n",
      "2109/2109 [==============================] - 0s - loss: 0.0017 - val_loss: 0.0020\n",
      "Epoch 10/20\n",
      "2109/2109 [==============================] - 0s - loss: 0.0017 - val_loss: 9.9792e-04\n",
      "Epoch 11/20\n",
      "2109/2109 [==============================] - 0s - loss: 0.0017 - val_loss: 0.0022\n",
      "Epoch 12/20\n",
      "2109/2109 [==============================] - 1s - loss: 0.0016 - val_loss: 0.0014\n",
      "Epoch 13/20\n",
      "2109/2109 [==============================] - 0s - loss: 0.0014 - val_loss: 9.5050e-04\n",
      "Epoch 14/20\n",
      "2109/2109 [==============================] - 1s - loss: 0.0014 - val_loss: 0.0010\n",
      "Epoch 15/20\n",
      "2109/2109 [==============================] - 1s - loss: 0.0014 - val_loss: 0.0012\n",
      "Epoch 16/20\n",
      "2109/2109 [==============================] - 0s - loss: 0.0015 - val_loss: 7.4662e-04\n",
      "Epoch 17/20\n",
      "2109/2109 [==============================] - 1s - loss: 0.0013 - val_loss: 7.8395e-04\n",
      "Epoch 18/20\n",
      "2109/2109 [==============================] - 1s - loss: 0.0011 - val_loss: 9.6770e-04\n",
      "Epoch 19/20\n",
      "2109/2109 [==============================] - 0s - loss: 0.0013 - val_loss: 9.6890e-04\n",
      "Epoch 20/20\n",
      "2109/2109 [==============================] - 0s - loss: 0.0011 - val_loss: 7.5080e-04\n"
     ]
    },
    {
     "data": {
      "text/plain": [
       "<keras.callbacks.History at 0x7f53e0442dd8>"
      ]
     },
     "execution_count": 5,
     "metadata": {},
     "output_type": "execute_result"
    }
   ],
   "source": [
    "#Step 3 Train the model\n",
    "model.fit(\n",
    "    X_train,\n",
    "    y_train,\n",
    "    batch_size=512,\n",
    "    nb_epoch=20,\n",
    "    validation_split=0.05)"
   ]
  },
  {
   "cell_type": "code",
   "execution_count": 6,
   "metadata": {},
   "outputs": [
    {
     "data": {
      "image/png": "[encoded data removed]",
      "text/plain": [
       "<matplotlib.figure.Figure at 0x7f53e04a8828>"
      ]
     },
     "metadata": {},
     "output_type": "display_data"
    }
   ],
   "source": [
    "#Step 4 - Plot the predictions!\n",
    "predictions = lstm.predict_sequences_multiple(model, X_test, 50, 50)\n",
    "lstm.plot_results_multiple(predictions, y_test, 50)"
   ]
  },
  {
   "cell_type": "code",
   "execution_count": null,
   "metadata": {
    "collapsed": true
   },
   "outputs": [],
   "source": []
  }
 ],
 "metadata": {
  "kernelspec": {
   "display_name": "Python 3",
   "language": "python",
   "name": "python3"
  },
  "language_info": {
   "codemirror_mode": {
    "name": "ipython",
    "version": 3
   },
   "file_extension": ".py",
   "mimetype": "text/x-python",
   "name": "python",
   "nbconvert_exporter": "python",
   "pygments_lexer": "ipython3",
   "version": "3.6.1"
  }
 },
 "nbformat": 4,
 "nbformat_minor": 2
}
