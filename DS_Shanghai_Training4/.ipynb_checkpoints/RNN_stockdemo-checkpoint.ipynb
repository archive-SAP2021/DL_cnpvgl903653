{
 "cells": [
  {
   "cell_type": "code",
   "execution_count": 1,
   "metadata": {},
   "outputs": [
    {
     "name": "stderr",
     "output_type": "stream",
     "text": [
      "Using TensorFlow backend.\n"
     ]
    }
   ],
   "source": [
    "from keras.layers.core import Dense, Activation, Dropout\n",
    "from keras.layers.recurrent import LSTM\n",
    "from keras.models import Sequential\n",
    "import lstm, time #helper libraries"
   ]
  },
  {
   "cell_type": "code",
   "execution_count": 2,
   "metadata": {
    "collapsed": true
   },
   "outputs": [],
   "source": [
    "def data_prepare():\n",
    "    # data prepare for LSTM model\n",
    "    import pandas as pd\n",
    "    # conda install -c anaconda pandas-datareader=0.4.0\n",
    "    import pandas_datareader.data as web\n",
    "    from datetime import datetime\n",
    "    start=datetime(2007, 1, 1)\n",
    "    end=datetime(2017, 1, 1)\n",
    "    # yahoo API not working? so to google\n",
    "    source='google'\n",
    "    # google stock\n",
    "    google = web.DataReader('GOOG', source, start, end)\n",
    "    # print(type(google))\n",
    "    # print(type(google['Low']))\n",
    "    #<class 'pandas.core.series.Series'>\n",
    "    # don't save pandas series of google['LOW'], just single row, see https://stackoverflow.com/questions/20845213/how-to-avoid-python-pandas-creating-an-index-in-a-saved-csv\n",
    "    # hmmm... mainland of china block google....sorry\n",
    "    google['Low'].to_csv('data/google.csv', sep='\\t', encoding='utf-8', index=False)"
   ]
  },
  {
   "cell_type": "code",
   "execution_count": 3,
   "metadata": {
    "collapsed": true
   },
   "outputs": [],
   "source": [
    "#Step 0 prepare data\n",
    "data_prepare()\n",
    "#see: http://www.jakob-aungiers.com/articles/a/LSTM-Neural-Network-for-Time-Series-Prediction\n",
    "#see: impelemntation of https://github.com/jaungiers/LSTM-Neural-Network-for-Time-Series-Prediction\n",
    "#Step 1 Load Data\n",
    "X_train, y_train, X_test, y_test = lstm.load_data('data/google.csv', 50, True)"
   ]
  },
  {
   "cell_type": "code",
   "execution_count": 4,
   "metadata": {
    "collapsed": true
   },
   "outputs": [],
   "source": [
    "# Step 2 Build Model\n",
    "model = Sequential()\n",
    "\n",
    "model.add(LSTM(\n",
    "    input_dim=1,\n",
    "    output_dim=50,\n",
    "    return_sequences=True))\n",
    "model.add(Dropout(0.2))\n",
    "\n",
    "model.add(LSTM(\n",
    "    100,\n",
    "    return_sequences=False))\n",
    "model.add(Dropout(0.2))\n",
    "\n",
    "model.add(Dense(\n",
    "    output_dim=1))\n",
    "model.add(Activation('linear'))\n",
    "\n",
    "start = time.time()\n",
    "model.compile(loss='mse', optimizer='rmsprop')\n",
    "#print 'compilation time : ', time.time() - start"
   ]
  },
  {
   "cell_type": "code",
   "execution_count": 5,
   "metadata": {},
   "outputs": [
    {
     "name": "stdout",
     "output_type": "stream",
     "text": [
      "Train on 2109 samples, validate on 111 samples\n",
      "Epoch 1/20\n",
      "2109/2109 [==============================] - 4s - loss: 0.0110 - val_loss: 0.0029\n",
      "Epoch 2/20\n",
      "2109/2109 [==============================] - 0s - loss: 0.0029 - val_loss: 0.0025\n",
      "Epoch 3/20\n",
      "2109/2109 [==============================] - 0s - loss: 0.0026 - val_loss: 0.0029\n",
      "Epoch 4/20\n",
      "2109/2109 [==============================] - 0s - loss: 0.0024 - val_loss: 0.0020\n",
      "Epoch 5/20\n",
      "2109/2109 [==============================] - 0s - loss: 0.0021 - val_loss: 0.0030\n",
      "Epoch 6/20\n",
      "2109/2109 [==============================] - 0s - loss: 0.0023 - val_loss: 0.0017\n",
      "Epoch 7/20\n",
      "2109/2109 [==============================] - 0s - loss: 0.0018 - val_loss: 0.0029\n",
      "Epoch 8/20\n",
      "2109/2109 [==============================] - 0s - loss: 0.0021 - val_loss: 0.0019\n",
      "Epoch 9/20\n",
      "2109/2109 [==============================] - 0s - loss: 0.0016 - val_loss: 0.0015\n",
      "Epoch 10/20\n",
      "2109/2109 [==============================] - 0s - loss: 0.0017 - val_loss: 0.0015\n",
      "Epoch 11/20\n",
      "2109/2109 [==============================] - 0s - loss: 0.0019 - val_loss: 0.0017\n",
      "Epoch 12/20\n",
      "2109/2109 [==============================] - 0s - loss: 0.0015 - val_loss: 0.0012\n",
      "Epoch 13/20\n",
      "2109/2109 [==============================] - 0s - loss: 0.0013 - val_loss: 0.0015\n",
      "Epoch 14/20\n",
      "2109/2109 [==============================] - 0s - loss: 0.0016 - val_loss: 0.0020\n",
      "Epoch 15/20\n",
      "2109/2109 [==============================] - 0s - loss: 0.0015 - val_loss: 0.0016\n",
      "Epoch 16/20\n",
      "2109/2109 [==============================] - 0s - loss: 0.0014 - val_loss: 0.0012\n",
      "Epoch 17/20\n",
      "2109/2109 [==============================] - 0s - loss: 0.0012 - val_loss: 0.0017\n",
      "Epoch 18/20\n",
      "2109/2109 [==============================] - 0s - loss: 0.0015 - val_loss: 0.0010\n",
      "Epoch 19/20\n",
      "2109/2109 [==============================] - 0s - loss: 0.0012 - val_loss: 0.0011\n",
      "Epoch 20/20\n",
      "2109/2109 [==============================] - 0s - loss: 0.0013 - val_loss: 0.0017\n"
     ]
    },
    {
     "data": {
      "text/plain": [
       "<keras.callbacks.History at 0x7f28f05f6a58>"
      ]
     },
     "execution_count": 5,
     "metadata": {},
     "output_type": "execute_result"
    }
   ],
   "source": [
    "#Step 3 Train the model\n",
    "model.fit(\n",
    "    X_train,\n",
    "    y_train,\n",
    "    batch_size=512,\n",
    "    nb_epoch=20,\n",
    "    validation_split=0.05)"
   ]
  },
  {
   "cell_type": "code",
   "execution_count": 6,
   "metadata": {},
   "outputs": [
    {
     "ename": "NameError",
     "evalue": "name 'plt' is not defined",
     "output_type": "error",
     "traceback": [
      "\u001b[0;31m---------------------------------------------------------------------------\u001b[0m",
      "\u001b[0;31mNameError\u001b[0m                                 Traceback (most recent call last)",
      "\u001b[0;32m<ipython-input-6-c37cab15883e>\u001b[0m in \u001b[0;36m<module>\u001b[0;34m()\u001b[0m\n\u001b[1;32m      1\u001b[0m \u001b[0;31m#Step 4 - Plot the predictions!\u001b[0m\u001b[0;34m\u001b[0m\u001b[0;34m\u001b[0m\u001b[0m\n\u001b[1;32m      2\u001b[0m \u001b[0mpredictions\u001b[0m \u001b[0;34m=\u001b[0m \u001b[0mlstm\u001b[0m\u001b[0;34m.\u001b[0m\u001b[0mpredict_sequences_multiple\u001b[0m\u001b[0;34m(\u001b[0m\u001b[0mmodel\u001b[0m\u001b[0;34m,\u001b[0m \u001b[0mX_test\u001b[0m\u001b[0;34m,\u001b[0m \u001b[0;36m50\u001b[0m\u001b[0;34m,\u001b[0m \u001b[0;36m50\u001b[0m\u001b[0;34m)\u001b[0m\u001b[0;34m\u001b[0m\u001b[0m\n\u001b[0;32m----> 3\u001b[0;31m \u001b[0mlstm\u001b[0m\u001b[0;34m.\u001b[0m\u001b[0mplot_results_multiple\u001b[0m\u001b[0;34m(\u001b[0m\u001b[0mpredictions\u001b[0m\u001b[0;34m,\u001b[0m \u001b[0my_test\u001b[0m\u001b[0;34m,\u001b[0m \u001b[0;36m50\u001b[0m\u001b[0;34m)\u001b[0m\u001b[0;34m\u001b[0m\u001b[0m\n\u001b[0m",
      "\u001b[0;32m~/workspace/DS_Shanghai_Training4/lstm.py\u001b[0m in \u001b[0;36mplot_results_multiple\u001b[0;34m(predicted_data, true_data, prediction_len)\u001b[0m\n\u001b[1;32m    106\u001b[0m \u001b[0;34m\u001b[0m\u001b[0m\n\u001b[1;32m    107\u001b[0m \u001b[0;32mdef\u001b[0m \u001b[0mplot_results_multiple\u001b[0m\u001b[0;34m(\u001b[0m\u001b[0mpredicted_data\u001b[0m\u001b[0;34m,\u001b[0m \u001b[0mtrue_data\u001b[0m\u001b[0;34m,\u001b[0m \u001b[0mprediction_len\u001b[0m\u001b[0;34m)\u001b[0m\u001b[0;34m:\u001b[0m\u001b[0;34m\u001b[0m\u001b[0m\n\u001b[0;32m--> 108\u001b[0;31m     \u001b[0mfig\u001b[0m \u001b[0;34m=\u001b[0m \u001b[0mplt\u001b[0m\u001b[0;34m.\u001b[0m\u001b[0mfigure\u001b[0m\u001b[0;34m(\u001b[0m\u001b[0mfacecolor\u001b[0m\u001b[0;34m=\u001b[0m\u001b[0;34m'white'\u001b[0m\u001b[0;34m)\u001b[0m\u001b[0;34m\u001b[0m\u001b[0m\n\u001b[0m\u001b[1;32m    109\u001b[0m     \u001b[0max\u001b[0m \u001b[0;34m=\u001b[0m \u001b[0mfig\u001b[0m\u001b[0;34m.\u001b[0m\u001b[0madd_subplot\u001b[0m\u001b[0;34m(\u001b[0m\u001b[0;36m111\u001b[0m\u001b[0;34m)\u001b[0m\u001b[0;34m\u001b[0m\u001b[0m\n\u001b[1;32m    110\u001b[0m     \u001b[0max\u001b[0m\u001b[0;34m.\u001b[0m\u001b[0mplot\u001b[0m\u001b[0;34m(\u001b[0m\u001b[0mtrue_data\u001b[0m\u001b[0;34m,\u001b[0m \u001b[0mlabel\u001b[0m\u001b[0;34m=\u001b[0m\u001b[0;34m'True Data'\u001b[0m\u001b[0;34m)\u001b[0m\u001b[0;34m\u001b[0m\u001b[0m\n",
      "\u001b[0;31mNameError\u001b[0m: name 'plt' is not defined"
     ]
    }
   ],
   "source": [
    "#Step 4 - Plot the predictions!\n",
    "predictions = lstm.predict_sequences_multiple(model, X_test, 50, 50)\n",
    "lstm.plot_results_multiple(predictions, y_test, 50)"
   ]
  },
  {
   "cell_type": "code",
   "execution_count": null,
   "metadata": {
    "collapsed": true
   },
   "outputs": [],
   "source": []
  }
 ],
 "metadata": {
  "kernelspec": {
   "display_name": "Python 3",
   "language": "python",
   "name": "python3"
  },
  "language_info": {
   "codemirror_mode": {
    "name": "ipython",
    "version": 3
   },
   "file_extension": ".py",
   "mimetype": "text/x-python",
   "name": "python",
   "nbconvert_exporter": "python",
   "pygments_lexer": "ipython3",
   "version": "3.6.1"
  }
 },
 "nbformat": 4,
 "nbformat_minor": 2
}
