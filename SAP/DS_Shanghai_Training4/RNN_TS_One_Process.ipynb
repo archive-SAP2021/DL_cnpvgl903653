{
 "cells": [
  {
   "cell_type": "code",
   "execution_count": 1,
   "metadata": {
    "collapsed": true
   },
   "outputs": [],
   "source": [
    "# time series for predict, packages\n",
    "import multiprocessing\n",
    "import tensorflow as tf\n",
    "import pandas as pd\n",
    "import numpy as np\n",
    "import os\n",
    "import matplotlib\n",
    "import matplotlib.pyplot as plt\n",
    "import random\n",
    "%matplotlib inline\n",
    "import shutil\n",
    "import tensorflow.contrib.learn as tflearn\n",
    "import tensorflow.contrib.layers as tflayers\n",
    "from tensorflow.contrib.learn.python.learn import learn_runner\n",
    "import tensorflow.contrib.metrics as metrics\n",
    "import tensorflow.contrib.rnn as run"
   ]
  },
  {
   "cell_type": "code",
   "execution_count": 2,
   "metadata": {},
   "outputs": [
    {
     "name": "stdout",
     "output_type": "stream",
     "text": [
      "1.1.0\n"
     ]
    }
   ],
   "source": [
    "# tensorflow version\n",
    "import pkg_resources\n",
    "print(pkg_resources.get_distribution(\"tensorflow\").version)"
   ]
  },
  {
   "cell_type": "code",
   "execution_count": 3,
   "metadata": {},
   "outputs": [
    {
     "data": {
      "image/png": "[encoded data removed]",
      "text/plain": [
       "<matplotlib.figure.Figure at 0x7f7d11af2048>"
      ]
     },
     "metadata": {},
     "output_type": "display_data"
    }
   ],
   "source": [
    "random.seed(100)\n",
    "rng = pd.date_range(start='2000', periods =209,freq='M')\n",
    "ts = pd.Series(np.random.uniform(-10,10,size=len(rng)),rng).cumsum()\n",
    "ts.plot(c='b', title=\"Example\")\n",
    "plt.show()"
   ]
  },
  {
   "cell_type": "code",
   "execution_count": 4,
   "metadata": {},
   "outputs": [],
   "source": [
    "# read first 10 rows for time series\n",
    "# ts.head(10)"
   ]
  },
  {
   "cell_type": "code",
   "execution_count": 5,
   "metadata": {},
   "outputs": [
    {
     "name": "stdout",
     "output_type": "stream",
     "text": [
      "10\n",
      "(10, 20, 1)\n",
      "(10, 20, 1)\n"
     ]
    }
   ],
   "source": [
    "TS = np.array(ts)\n",
    "num_periods = 20  # 10 batches , 20 values per batch\n",
    "f_horizon = 1  # Forecast Horizon, 1 period into future\n",
    "\n",
    "x_data = TS[:(len(TS)-(len(TS) % num_periods))]    #x_data len is truncated from 209 to 200\n",
    "x_batches = x_data.reshape(-1,20,1)\n",
    "\n",
    "y_data = TS[1:(len(TS)-len(TS) % num_periods)+f_horizon]\n",
    "y_batches = y_data.reshape(-1,20,1)\n",
    "\n",
    "\n",
    "print(len(x_batches))\n",
    "print(x_batches.shape)\n",
    "#print(x_batches[0:1])\n",
    "\n",
    "print(y_batches.shape)\n",
    "#print(y_batches[0:1])"
   ]
  },
  {
   "cell_type": "code",
   "execution_count": 6,
   "metadata": {
    "collapsed": true
   },
   "outputs": [],
   "source": [
    "def test_data(series, forecast, num_periods):\n",
    "    test_x_setup = TS[-(num_periods+forecast):]\n",
    "    testX = test_x_setup[:num_periods].reshape(-1,20,1)\n",
    "    testY = TS[-(num_periods):].reshape(-1,20,1)\n",
    "    return testX, testY"
   ]
  },
  {
   "cell_type": "code",
   "execution_count": 7,
   "metadata": {},
   "outputs": [
    {
     "name": "stdout",
     "output_type": "stream",
     "text": [
      "(1, 20, 1)\n",
      "(1, 20, 1)\n"
     ]
    }
   ],
   "source": [
    "X_test, Y_test = test_data(TS, f_horizon, num_periods)\n",
    "print(X_test.shape)\n",
    "# print(X_test)\n",
    "print(Y_test.shape)\n",
    "# print(Y_test)"
   ]
  },
  {
   "cell_type": "code",
   "execution_count": 8,
   "metadata": {
    "collapsed": true
   },
   "outputs": [],
   "source": [
    "def run_tensorflow():\n",
    "    # https://stackoverflow.com/questions/39758094/clearing-tensorflow-gpu-memory-after-model-execution\n",
    "    tf.reset_default_graph()\n",
    "\n",
    "    num_periods = 20  #number of periods per vector used to predict one period ahead\n",
    "    inputs = 1        #number of vectors submitted \n",
    "    hidden = 100      #number of neurons we will recursively work through\n",
    "    output = 1        #number of output vector\n",
    "\n",
    "    X = tf.placeholder(tf.float32, [None, num_periods, inputs ])\n",
    "    y = tf.placeholder(tf.float32, [None, num_periods, output ])\n",
    "\n",
    "    basic_cell = tf.contrib.rnn.BasicRNNCell(num_units=hidden, activation=tf.nn.relu)\n",
    "    rnn_output, states = tf.nn.dynamic_rnn(basic_cell, X, dtype=tf.float32)   # dynamic instead of static\n",
    "\n",
    "    learning_rate =0.001\n",
    "\n",
    "    stacked_rnn_output = tf.reshape(rnn_output,[-1, hidden])     # changed the form into a tensor\n",
    "    stacked_outputs = tf.layers.dense(stacked_rnn_output, output)  # GD\n",
    "    outputs = tf.reshape(stacked_outputs, [-1, num_periods, output]) # shape of the results\n",
    "\n",
    "    loss = tf.reduce_sum(tf.square(outputs - y))\n",
    "    optimizer = tf.train.AdamOptimizer(learning_rate = learning_rate)\n",
    "    training_op = optimizer.minimize(loss)\n",
    "\n",
    "    init = tf.global_variables_initializer()\n",
    "\n",
    "    epochs = 2000\n",
    "    # https://stackoverflow.com/questions/39758094/clearing-tensorflow-gpu-memory-after-model-execution\n",
    "    # https://github.com/tensorflow/tensorflow/issues/1578\n",
    "    #gpu_options = tf.GPUOptions(per_process_gpu_memory_fraction=0.1)\n",
    "\n",
    "    closable_sess = None\n",
    "    # refer to https://www.tensorflow.org/api_docs/python/tf/Session#close\n",
    "    # with tf.Session(config=tf.ConfigProto(gpu_options=gpu_options)) as sess:\n",
    "    with tf.Session() as sess:\n",
    "        init.run()\n",
    "        for i in range(epochs):\n",
    "            sess.run(training_op, feed_dict={X: x_batches, y:y_batches})\n",
    "            if i % 100 == 0:\n",
    "                mse = loss.eval(feed_dict={X:x_batches, y:y_batches})\n",
    "                print(i, \"\\tMSE:\", mse)\n",
    "        y_pred = sess.run(outputs, feed_dict={X: X_test})\n",
    "        closable_sess = sess\n",
    "\n",
    "    print(closable_sess._closed)\n",
    "    # draw data for reference to check\n",
    "    plt.title(\"Forecast vs Actual\")\n",
    "    plt.plot(pd.Series(np.ravel(Y_test)),\"bo\", markersize=10, label =\" Actual\")\n",
    "    plt.plot(pd.Series(np.ravel(y_pred)),\"r.\", markersize=10, label =\" Forecast\")\n",
    "    plt.legend(loc=\"lower left\")\n",
    "    plt.show()"
   ]
  },
  {
   "cell_type": "code",
   "execution_count": 9,
   "metadata": {},
   "outputs": [
    {
     "name": "stdout",
     "output_type": "stream",
     "text": [
      "0 \tMSE: 90181.8\n",
      "100 \tMSE: 5699.15\n",
      "200 \tMSE: 2797.29\n",
      "300 \tMSE: 1313.79\n",
      "400 \tMSE: 772.396\n",
      "500 \tMSE: 618.58\n",
      "600 \tMSE: 578.214\n",
      "700 \tMSE: 451.686\n",
      "800 \tMSE: 417.885\n",
      "900 \tMSE: 383.435\n",
      "1000 \tMSE: 367.017\n",
      "1100 \tMSE: 379.737\n",
      "1200 \tMSE: 351.72\n",
      "1300 \tMSE: 335.442\n",
      "1400 \tMSE: 327.409\n",
      "1500 \tMSE: 321.692\n",
      "1600 \tMSE: 313.355\n",
      "1700 \tMSE: 306.365\n",
      "1800 \tMSE: 303.635\n",
      "1900 \tMSE: 293.054\n",
      "True\n"
     ]
    },
    {
     "data": {
      "image/png": "[encoded data removed]",
      "text/plain": [
       "<matplotlib.figure.Figure at 0x7f7d0e5122b0>"
      ]
     },
     "metadata": {},
     "output_type": "display_data"
    }
   ],
   "source": [
    "# option 2 not release GPU memory\n",
    "run_tensorflow()"
   ]
  },
  {
   "cell_type": "code",
   "execution_count": null,
   "metadata": {
    "collapsed": true
   },
   "outputs": [],
   "source": []
  }
 ],
 "metadata": {
  "kernelspec": {
   "display_name": "Python 3",
   "language": "python",
   "name": "python3"
  },
  "language_info": {
   "codemirror_mode": {
    "name": "ipython",
    "version": 3
   },
   "file_extension": ".py",
   "mimetype": "text/x-python",
   "name": "python",
   "nbconvert_exporter": "python",
   "pygments_lexer": "ipython3",
   "version": "3.6.1"
  }
 },
 "nbformat": 4,
 "nbformat_minor": 2
}
