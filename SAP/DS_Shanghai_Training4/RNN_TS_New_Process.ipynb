{
 "cells": [
  {
   "cell_type": "code",
   "execution_count": 19,
   "metadata": {
    "collapsed": true
   },
   "outputs": [],
   "source": [
    "# time series for predict, packages\n",
    "import multiprocessing\n",
    "import tensorflow as tf\n",
    "import pandas as pd\n",
    "import numpy as np\n",
    "import os\n",
    "import matplotlib\n",
    "import matplotlib.pyplot as plt\n",
    "import random\n",
    "%matplotlib inline\n",
    "import shutil\n",
    "import tensorflow.contrib.learn as tflearn\n",
    "import tensorflow.contrib.layers as tflayers\n",
    "from tensorflow.contrib.learn.python.learn import learn_runner\n",
    "import tensorflow.contrib.metrics as metrics\n",
    "import tensorflow.contrib.rnn as run"
   ]
  },
  {
   "cell_type": "code",
   "execution_count": 20,
   "metadata": {},
   "outputs": [
    {
     "name": "stdout",
     "output_type": "stream",
     "text": [
      "1.1.0\n"
     ]
    }
   ],
   "source": [
    "# tensorflow version\n",
    "import pkg_resources\n",
    "print(pkg_resources.get_distribution(\"tensorflow\").version)"
   ]
  },
  {
   "cell_type": "code",
   "execution_count": 21,
   "metadata": {},
   "outputs": [
    {
     "data": {
      "image/png": "[encoded data removed]",
      "text/plain": [
       "<matplotlib.figure.Figure at 0x7f0aa8a9aa90>"
      ]
     },
     "metadata": {},
     "output_type": "display_data"
    }
   ],
   "source": [
    "random.seed(100)\n",
    "rng = pd.date_range(start='2000', periods =209,freq='M')\n",
    "ts = pd.Series(np.random.uniform(-10,10,size=len(rng)),rng).cumsum()\n",
    "ts.plot(c='b', title=\"Example\")\n",
    "plt.show()"
   ]
  },
  {
   "cell_type": "code",
   "execution_count": 22,
   "metadata": {},
   "outputs": [
    {
     "data": {
      "text/plain": [
       "2000-01-31    -9.023167\n",
       "2000-02-29    -5.170918\n",
       "2000-03-31    -0.262072\n",
       "2000-04-30    -6.534033\n",
       "2000-05-31     2.933975\n",
       "2000-06-30    -5.858101\n",
       "2000-07-31    -8.639851\n",
       "2000-08-31    -2.721318\n",
       "2000-09-30   -10.285781\n",
       "2000-10-31    -6.614371\n",
       "Freq: M, dtype: float64"
      ]
     },
     "execution_count": 22,
     "metadata": {},
     "output_type": "execute_result"
    }
   ],
   "source": [
    "ts.head(10)"
   ]
  },
  {
   "cell_type": "code",
   "execution_count": 23,
   "metadata": {},
   "outputs": [
    {
     "name": "stdout",
     "output_type": "stream",
     "text": [
      "10\n",
      "(10, 20, 1)\n",
      "(10, 20, 1)\n"
     ]
    }
   ],
   "source": [
    "TS = np.array(ts)\n",
    "num_periods = 20  # 10 batches , 20 values per batch\n",
    "f_horizon = 1  # Forecast Horizon, 1 period into future\n",
    "\n",
    "x_data = TS[:(len(TS)-(len(TS) % num_periods))]    #x_data len is truncated from 209 to 200\n",
    "x_batches = x_data.reshape(-1,20,1)\n",
    "\n",
    "y_data = TS[1:(len(TS)-len(TS) % num_periods)+f_horizon]\n",
    "y_batches = y_data.reshape(-1,20,1)\n",
    "\n",
    "\n",
    "print(len(x_batches))\n",
    "print(x_batches.shape)\n",
    "#print(x_batches[0:1])\n",
    "\n",
    "print(y_batches.shape)\n",
    "#print(y_batches[0:1])"
   ]
  },
  {
   "cell_type": "code",
   "execution_count": 24,
   "metadata": {
    "collapsed": true
   },
   "outputs": [],
   "source": [
    "def test_data(series, forecast, num_periods):\n",
    "    test_x_setup = TS[-(num_periods+forecast):]\n",
    "    testX = test_x_setup[:num_periods].reshape(-1,20,1)\n",
    "    testY = TS[-(num_periods):].reshape(-1,20,1)\n",
    "    return testX, testY"
   ]
  },
  {
   "cell_type": "code",
   "execution_count": 25,
   "metadata": {},
   "outputs": [
    {
     "name": "stdout",
     "output_type": "stream",
     "text": [
      "(1, 20, 1)\n",
      "(1, 20, 1)\n"
     ]
    }
   ],
   "source": [
    "X_test, Y_test = test_data(TS, f_horizon, num_periods)\n",
    "print(X_test.shape)\n",
    "# print(X_test)\n",
    "print(Y_test.shape)\n",
    "# print(Y_test)"
   ]
  },
  {
   "cell_type": "code",
   "execution_count": 26,
   "metadata": {
    "collapsed": true
   },
   "outputs": [],
   "source": [
    "def run_tensorflow():\n",
    "    # https://stackoverflow.com/questions/39758094/clearing-tensorflow-gpu-memory-after-model-execution\n",
    "    tf.reset_default_graph()\n",
    "\n",
    "    num_periods = 20  #number of periods per vector used to predict one period ahead\n",
    "    inputs = 1        #number of vectors submitted \n",
    "    hidden = 100      #number of neurons we will recursively work through\n",
    "    output = 1        #number of output vector\n",
    "\n",
    "    X = tf.placeholder(tf.float32, [None, num_periods, inputs ])\n",
    "    y = tf.placeholder(tf.float32, [None, num_periods, output ])\n",
    "\n",
    "    basic_cell = tf.contrib.rnn.BasicRNNCell(num_units=hidden, activation=tf.nn.relu)\n",
    "    rnn_output, states = tf.nn.dynamic_rnn(basic_cell, X, dtype=tf.float32)   # dynamic instead of static\n",
    "\n",
    "    learning_rate =0.001\n",
    "\n",
    "    stacked_rnn_output = tf.reshape(rnn_output,[-1, hidden])     # changed the form into a tensor\n",
    "    stacked_outputs = tf.layers.dense(stacked_rnn_output, output)  # GD\n",
    "    outputs = tf.reshape(stacked_outputs, [-1, num_periods, output]) # shape of the results\n",
    "\n",
    "    loss = tf.reduce_sum(tf.square(outputs - y))\n",
    "    optimizer = tf.train.AdamOptimizer(learning_rate = learning_rate)\n",
    "    training_op = optimizer.minimize(loss)\n",
    "\n",
    "    init = tf.global_variables_initializer()\n",
    "\n",
    "    epochs = 2000\n",
    "    # https://stackoverflow.com/questions/39758094/clearing-tensorflow-gpu-memory-after-model-execution\n",
    "    # https://github.com/tensorflow/tensorflow/issues/1578\n",
    "    gpu_options = tf.GPUOptions(per_process_gpu_memory_fraction=0.1)\n",
    "\n",
    "    with tf.Session(config=tf.ConfigProto(gpu_options=gpu_options)) as sess:\n",
    "        init.run()\n",
    "        for i in range(epochs):\n",
    "            sess.run(training_op, feed_dict={X: x_batches, y:y_batches})\n",
    "            if i % 100 == 0:\n",
    "                mse = loss.eval(feed_dict={X:x_batches, y:y_batches})\n",
    "                print(i, \"\\tMSE:\", mse)\n",
    "        y_pred = sess.run(outputs, feed_dict={X: X_test})\n",
    "\n",
    "    # draw data for reference to check\n",
    "    plt.title(\"Forecast vs Actual\")\n",
    "    plt.plot(pd.Series(np.ravel(Y_test)),\"bo\", markersize=10, label =\" Actual\")\n",
    "    plt.plot(pd.Series(np.ravel(y_pred)),\"r.\", markersize=10, label =\" Forecast\")\n",
    "    plt.legend(loc=\"lower left\")\n",
    "    plt.show()"
   ]
  },
  {
   "cell_type": "code",
   "execution_count": 27,
   "metadata": {},
   "outputs": [
    {
     "name": "stderr",
     "output_type": "stream",
     "text": [
      "Process Process-3:\n",
      "Traceback (most recent call last):\n",
      "  File \"/home/dluser1/miniconda3/lib/python3.6/site-packages/tensorflow/python/client/session.py\", line 1039, in _do_call\n",
      "    return fn(*args)\n",
      "  File \"/home/dluser1/miniconda3/lib/python3.6/site-packages/tensorflow/python/client/session.py\", line 1021, in _run_fn\n",
      "    status, run_metadata)\n",
      "  File \"/home/dluser1/miniconda3/lib/python3.6/contextlib.py\", line 88, in __exit__\n",
      "    next(self.gen)\n",
      "  File \"/home/dluser1/miniconda3/lib/python3.6/site-packages/tensorflow/python/framework/errors_impl.py\", line 466, in raise_exception_on_not_ok_status\n",
      "    pywrap_tensorflow.TF_GetCode(status))\n",
      "tensorflow.python.framework.errors_impl.InternalError: Blas GEMM launch failed : a.shape=(10, 101), b.shape=(101, 100), m=10, n=100, k=101\n",
      "\t [[Node: rnn/while/basic_rnn_cell/basic_rnn_cell_1/MatMul = MatMul[T=DT_FLOAT, transpose_a=false, transpose_b=false, _device=\"/job:localhost/replica:0/task:0/gpu:0\"](rnn/while/basic_rnn_cell/basic_rnn_cell_1/concat, rnn/while/basic_rnn_cell/basic_rnn_cell_1/MatMul/Enter)]]\n",
      "\n",
      "During handling of the above exception, another exception occurred:\n",
      "\n",
      "Traceback (most recent call last):\n",
      "  File \"/home/dluser1/miniconda3/lib/python3.6/multiprocessing/process.py\", line 249, in _bootstrap\n",
      "    self.run()\n",
      "  File \"/home/dluser1/miniconda3/lib/python3.6/multiprocessing/process.py\", line 93, in run\n",
      "    self._target(*self._args, **self._kwargs)\n",
      "  File \"<ipython-input-26-7e757ef93730>\", line 36, in run_tensorflow\n",
      "    sess.run(training_op, feed_dict={X: x_batches, y:y_batches})\n",
      "  File \"/home/dluser1/miniconda3/lib/python3.6/site-packages/tensorflow/python/client/session.py\", line 778, in run\n",
      "    run_metadata_ptr)\n",
      "  File \"/home/dluser1/miniconda3/lib/python3.6/site-packages/tensorflow/python/client/session.py\", line 982, in _run\n",
      "    feed_dict_string, options, run_metadata)\n",
      "  File \"/home/dluser1/miniconda3/lib/python3.6/site-packages/tensorflow/python/client/session.py\", line 1032, in _do_run\n",
      "    target_list, options, run_metadata)\n",
      "  File \"/home/dluser1/miniconda3/lib/python3.6/site-packages/tensorflow/python/client/session.py\", line 1052, in _do_call\n",
      "    raise type(e)(node_def, op, message)\n",
      "tensorflow.python.framework.errors_impl.InternalError: Blas GEMM launch failed : a.shape=(10, 101), b.shape=(101, 100), m=10, n=100, k=101\n",
      "\t [[Node: rnn/while/basic_rnn_cell/basic_rnn_cell_1/MatMul = MatMul[T=DT_FLOAT, transpose_a=false, transpose_b=false, _device=\"/job:localhost/replica:0/task:0/gpu:0\"](rnn/while/basic_rnn_cell/basic_rnn_cell_1/concat, rnn/while/basic_rnn_cell/basic_rnn_cell_1/MatMul/Enter)]]\n",
      "\n",
      "Caused by op 'rnn/while/basic_rnn_cell/basic_rnn_cell_1/MatMul', defined at:\n",
      "  File \"/home/dluser1/miniconda3/lib/python3.6/runpy.py\", line 193, in _run_module_as_main\n",
      "    \"__main__\", mod_spec)\n",
      "  File \"/home/dluser1/miniconda3/lib/python3.6/runpy.py\", line 85, in _run_code\n",
      "    exec(code, run_globals)\n",
      "  File \"/home/dluser1/miniconda3/lib/python3.6/site-packages/ipykernel_launcher.py\", line 16, in <module>\n",
      "    app.launch_new_instance()\n",
      "  File \"/home/dluser1/miniconda3/lib/python3.6/site-packages/traitlets/config/application.py\", line 658, in launch_instance\n",
      "    app.start()\n",
      "  File \"/home/dluser1/miniconda3/lib/python3.6/site-packages/ipykernel/kernelapp.py\", line 477, in start\n",
      "    ioloop.IOLoop.instance().start()\n",
      "  File \"/home/dluser1/miniconda3/lib/python3.6/site-packages/zmq/eventloop/ioloop.py\", line 177, in start\n",
      "    super(ZMQIOLoop, self).start()\n",
      "  File \"/home/dluser1/miniconda3/lib/python3.6/site-packages/tornado/ioloop.py\", line 888, in start\n",
      "    handler_func(fd_obj, events)\n",
      "  File \"/home/dluser1/miniconda3/lib/python3.6/site-packages/tornado/stack_context.py\", line 277, in null_wrapper\n",
      "    return fn(*args, **kwargs)\n",
      "  File \"/home/dluser1/miniconda3/lib/python3.6/site-packages/zmq/eventloop/zmqstream.py\", line 440, in _handle_events\n",
      "    self._handle_recv()\n",
      "  File \"/home/dluser1/miniconda3/lib/python3.6/site-packages/zmq/eventloop/zmqstream.py\", line 472, in _handle_recv\n",
      "    self._run_callback(callback, msg)\n",
      "  File \"/home/dluser1/miniconda3/lib/python3.6/site-packages/zmq/eventloop/zmqstream.py\", line 414, in _run_callback\n",
      "    callback(*args, **kwargs)\n",
      "  File \"/home/dluser1/miniconda3/lib/python3.6/site-packages/tornado/stack_context.py\", line 277, in null_wrapper\n",
      "    return fn(*args, **kwargs)\n",
      "  File \"/home/dluser1/miniconda3/lib/python3.6/site-packages/ipykernel/kernelbase.py\", line 283, in dispatcher\n",
      "    return self.dispatch_shell(stream, msg)\n",
      "  File \"/home/dluser1/miniconda3/lib/python3.6/site-packages/ipykernel/kernelbase.py\", line 235, in dispatch_shell\n",
      "    handler(stream, idents, msg)\n",
      "  File \"/home/dluser1/miniconda3/lib/python3.6/site-packages/ipykernel/kernelbase.py\", line 399, in execute_request\n",
      "    user_expressions, allow_stdin)\n",
      "  File \"/home/dluser1/miniconda3/lib/python3.6/site-packages/ipykernel/ipkernel.py\", line 196, in do_execute\n",
      "    res = shell.run_cell(code, store_history=store_history, silent=silent)\n",
      "  File \"/home/dluser1/miniconda3/lib/python3.6/site-packages/ipykernel/zmqshell.py\", line 533, in run_cell\n",
      "    return super(ZMQInteractiveShell, self).run_cell(*args, **kwargs)\n",
      "  File \"/home/dluser1/miniconda3/lib/python3.6/site-packages/IPython/core/interactiveshell.py\", line 2698, in run_cell\n",
      "    interactivity=interactivity, compiler=compiler, result=result)\n",
      "  File \"/home/dluser1/miniconda3/lib/python3.6/site-packages/IPython/core/interactiveshell.py\", line 2802, in run_ast_nodes\n",
      "    if self.run_code(code, result):\n",
      "  File \"/home/dluser1/miniconda3/lib/python3.6/site-packages/IPython/core/interactiveshell.py\", line 2862, in run_code\n",
      "    exec(code_obj, self.user_global_ns, self.user_ns)\n",
      "  File \"<ipython-input-27-576a40e956d6>\", line 3, in <module>\n",
      "    p.start()\n",
      "  File \"/home/dluser1/miniconda3/lib/python3.6/multiprocessing/process.py\", line 105, in start\n",
      "    self._popen = self._Popen(self)\n",
      "  File \"/home/dluser1/miniconda3/lib/python3.6/multiprocessing/context.py\", line 223, in _Popen\n",
      "    return _default_context.get_context().Process._Popen(process_obj)\n",
      "  File \"/home/dluser1/miniconda3/lib/python3.6/multiprocessing/context.py\", line 277, in _Popen\n",
      "    return Popen(process_obj)\n",
      "  File \"/home/dluser1/miniconda3/lib/python3.6/multiprocessing/popen_fork.py\", line 20, in __init__\n",
      "    self._launch(process_obj)\n",
      "  File \"/home/dluser1/miniconda3/lib/python3.6/multiprocessing/popen_fork.py\", line 74, in _launch\n",
      "    code = process_obj._bootstrap()\n",
      "  File \"/home/dluser1/miniconda3/lib/python3.6/multiprocessing/process.py\", line 249, in _bootstrap\n",
      "    self.run()\n",
      "  File \"/home/dluser1/miniconda3/lib/python3.6/multiprocessing/process.py\", line 93, in run\n",
      "    self._target(*self._args, **self._kwargs)\n",
      "  File \"<ipython-input-26-7e757ef93730>\", line 14, in run_tensorflow\n",
      "    rnn_output, states = tf.nn.dynamic_rnn(basic_cell, X, dtype=tf.float32)   # dynamic instead of static\n",
      "  File \"/home/dluser1/miniconda3/lib/python3.6/site-packages/tensorflow/python/ops/rnn.py\", line 553, in dynamic_rnn\n",
      "    dtype=dtype)\n",
      "  File \"/home/dluser1/miniconda3/lib/python3.6/site-packages/tensorflow/python/ops/rnn.py\", line 720, in _dynamic_rnn_loop\n",
      "    swap_memory=swap_memory)\n",
      "  File \"/home/dluser1/miniconda3/lib/python3.6/site-packages/tensorflow/python/ops/control_flow_ops.py\", line 2623, in while_loop\n",
      "    result = context.BuildLoop(cond, body, loop_vars, shape_invariants)\n",
      "  File \"/home/dluser1/miniconda3/lib/python3.6/site-packages/tensorflow/python/ops/control_flow_ops.py\", line 2456, in BuildLoop\n",
      "    pred, body, original_loop_vars, loop_vars, shape_invariants)\n",
      "  File \"/home/dluser1/miniconda3/lib/python3.6/site-packages/tensorflow/python/ops/control_flow_ops.py\", line 2406, in _BuildLoop\n",
      "    body_result = body(*packed_vars_for_body)\n",
      "  File \"/home/dluser1/miniconda3/lib/python3.6/site-packages/tensorflow/python/ops/rnn.py\", line 705, in _time_step\n",
      "    (output, new_state) = call_cell()\n",
      "  File \"/home/dluser1/miniconda3/lib/python3.6/site-packages/tensorflow/python/ops/rnn.py\", line 691, in <lambda>\n",
      "    call_cell = lambda: cell(input_t, state)\n",
      "  File \"/home/dluser1/miniconda3/lib/python3.6/site-packages/tensorflow/contrib/rnn/python/ops/core_rnn_cell_impl.py\", line 122, in __call__\n",
      "    _linear([inputs, state], self._num_units, True))\n",
      "  File \"/home/dluser1/miniconda3/lib/python3.6/site-packages/tensorflow/contrib/rnn/python/ops/core_rnn_cell_impl.py\", line 1048, in _linear\n",
      "    res = math_ops.matmul(array_ops.concat(args, 1), weights)\n",
      "  File \"/home/dluser1/miniconda3/lib/python3.6/site-packages/tensorflow/python/ops/math_ops.py\", line 1801, in matmul\n",
      "    a, b, transpose_a=transpose_a, transpose_b=transpose_b, name=name)\n",
      "  File \"/home/dluser1/miniconda3/lib/python3.6/site-packages/tensorflow/python/ops/gen_math_ops.py\", line 1263, in _mat_mul\n",
      "    transpose_b=transpose_b, name=name)\n",
      "  File \"/home/dluser1/miniconda3/lib/python3.6/site-packages/tensorflow/python/framework/op_def_library.py\", line 768, in apply_op\n",
      "    op_def=op_def)\n",
      "  File \"/home/dluser1/miniconda3/lib/python3.6/site-packages/tensorflow/python/framework/ops.py\", line 2336, in create_op\n",
      "    original_op=self._default_original_op, op_def=op_def)\n",
      "  File \"/home/dluser1/miniconda3/lib/python3.6/site-packages/tensorflow/python/framework/ops.py\", line 1228, in __init__\n",
      "    self._traceback = _extract_stack()\n",
      "\n",
      "InternalError (see above for traceback): Blas GEMM launch failed : a.shape=(10, 101), b.shape=(101, 100), m=10, n=100, k=101\n",
      "\t [[Node: rnn/while/basic_rnn_cell/basic_rnn_cell_1/MatMul = MatMul[T=DT_FLOAT, transpose_a=false, transpose_b=false, _device=\"/job:localhost/replica:0/task:0/gpu:0\"](rnn/while/basic_rnn_cell/basic_rnn_cell_1/concat, rnn/while/basic_rnn_cell/basic_rnn_cell_1/MatMul/Enter)]]\n",
      "\n"
     ]
    }
   ],
   "source": [
    "# option 1: execute code with extra process\n",
    "p = multiprocessing.Process(target=run_tensorflow)\n",
    "p.start()\n",
    "p.join()"
   ]
  },
  {
   "cell_type": "code",
   "execution_count": null,
   "metadata": {
    "collapsed": true
   },
   "outputs": [],
   "source": []
  }
 ],
 "metadata": {
  "kernelspec": {
   "display_name": "Python 3",
   "language": "python",
   "name": "python3"
  },
  "language_info": {
   "codemirror_mode": {
    "name": "ipython",
    "version": 3
   },
   "file_extension": ".py",
   "mimetype": "text/x-python",
   "name": "python",
   "nbconvert_exporter": "python",
   "pygments_lexer": "ipython3",
   "version": "3.6.2"
  }
 },
 "nbformat": 4,
 "nbformat_minor": 2
}
