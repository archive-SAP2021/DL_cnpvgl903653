{
 "cells": [
  {
   "cell_type": "code",
   "execution_count": 3,
   "metadata": {},
   "outputs": [],
   "source": [
    "import os\n",
    "import numpy as np\n",
    "import pandas as pd"
   ]
  },
  {
   "cell_type": "code",
   "execution_count": 2,
   "metadata": {},
   "outputs": [
    {
     "name": "stdout",
     "output_type": "stream",
     "text": [
      "['BMW.DE.csv', 'AAPL.csv', 'models', 'pandas', 'Time_Series_Analysis.ipynb', 'apple.csv', 'google.csv', 'exercise5.ipynb', 'SAP.DE.csv', 'exercise3.ipynb', 'GOOGL.csv', 'csv_prepare.ipynb', 'exercise7.ipynb', 'BABA.csv', 'exercise4.ipynb', 'LNC.csv', 'CRM.csv', 'tesla.csv', 'MSFT.csv', 'POAHF.csv', 'SAP.csv', 'exercise1.ipynb', 'NVDA.csv', 'exercise6.ipynb', 'exercise2.ipynb', 'VOW.DE.csv', '.ipynb_checkpoints', 'TSLA.csv', 'exercise8.ipynb', 'MSTF.csv']\n"
     ]
    }
   ],
   "source": [
    "print(os.listdir())"
   ]
  },
  {
   "cell_type": "code",
   "execution_count": null,
   "metadata": {},
   "outputs": [],
   "source": [
    "stocks = ['BABA', 'MSFT', 'CRM', 'NVDA', 'SAP.DE', 'AAPL', 'GOOGL']"
   ]
  },
  {
   "cell_type": "code",
   "execution_count": 26,
   "metadata": {},
   "outputs": [
    {
     "data": {
      "text/html": [
       "<div>\n",
       "<style scoped>\n",
       "    .dataframe tbody tr th:only-of-type {\n",
       "        vertical-align: middle;\n",
       "    }\n",
       "\n",
       "    .dataframe tbody tr th {\n",
       "        vertical-align: top;\n",
       "    }\n",
       "\n",
       "    .dataframe thead th {\n",
       "        text-align: right;\n",
       "    }\n",
       "</style>\n",
       "<table border=\"1\" class=\"dataframe\">\n",
       "  <thead>\n",
       "    <tr style=\"text-align: right;\">\n",
       "      <th></th>\n",
       "      <th>Date</th>\n",
       "      <th>High</th>\n",
       "      <th>Low</th>\n",
       "      <th>Open</th>\n",
       "      <th>Close</th>\n",
       "      <th>Volume</th>\n",
       "      <th>Adj Close</th>\n",
       "    </tr>\n",
       "  </thead>\n",
       "  <tbody>\n",
       "    <tr>\n",
       "      <th>0</th>\n",
       "      <td>2007-01-03</td>\n",
       "      <td>12.368571</td>\n",
       "      <td>11.700000</td>\n",
       "      <td>12.327143</td>\n",
       "      <td>11.971429</td>\n",
       "      <td>309579900.0</td>\n",
       "      <td>8.016820</td>\n",
       "    </tr>\n",
       "    <tr>\n",
       "      <th>1</th>\n",
       "      <td>2007-01-04</td>\n",
       "      <td>12.278571</td>\n",
       "      <td>11.974286</td>\n",
       "      <td>12.007143</td>\n",
       "      <td>12.237143</td>\n",
       "      <td>211815100.0</td>\n",
       "      <td>8.194759</td>\n",
       "    </tr>\n",
       "    <tr>\n",
       "      <th>2</th>\n",
       "      <td>2007-01-05</td>\n",
       "      <td>12.314285</td>\n",
       "      <td>12.057143</td>\n",
       "      <td>12.252857</td>\n",
       "      <td>12.150000</td>\n",
       "      <td>208685400.0</td>\n",
       "      <td>8.136404</td>\n",
       "    </tr>\n",
       "    <tr>\n",
       "      <th>3</th>\n",
       "      <td>2007-01-08</td>\n",
       "      <td>12.361428</td>\n",
       "      <td>12.182858</td>\n",
       "      <td>12.280000</td>\n",
       "      <td>12.210000</td>\n",
       "      <td>199276700.0</td>\n",
       "      <td>8.176582</td>\n",
       "    </tr>\n",
       "    <tr>\n",
       "      <th>4</th>\n",
       "      <td>2007-01-09</td>\n",
       "      <td>13.282857</td>\n",
       "      <td>12.164286</td>\n",
       "      <td>12.350000</td>\n",
       "      <td>13.224286</td>\n",
       "      <td>837324600.0</td>\n",
       "      <td>8.855811</td>\n",
       "    </tr>\n",
       "  </tbody>\n",
       "</table>\n",
       "</div>"
      ],
      "text/plain": [
       "         Date       High        Low       Open      Close       Volume  \\\n",
       "0  2007-01-03  12.368571  11.700000  12.327143  11.971429  309579900.0   \n",
       "1  2007-01-04  12.278571  11.974286  12.007143  12.237143  211815100.0   \n",
       "2  2007-01-05  12.314285  12.057143  12.252857  12.150000  208685400.0   \n",
       "3  2007-01-08  12.361428  12.182858  12.280000  12.210000  199276700.0   \n",
       "4  2007-01-09  13.282857  12.164286  12.350000  13.224286  837324600.0   \n",
       "\n",
       "   Adj Close  \n",
       "0   8.016820  \n",
       "1   8.194759  \n",
       "2   8.136404  \n",
       "3   8.176582  \n",
       "4   8.855811  "
      ]
     },
     "execution_count": 26,
     "metadata": {},
     "output_type": "execute_result"
    }
   ],
   "source": [
    "data = pd.read_csv('AAPL.csv', sep='\\t')\n",
    "data.head()"
   ]
  },
  {
   "cell_type": "code",
   "execution_count": 27,
   "metadata": {},
   "outputs": [
    {
     "data": {
      "text/plain": [
       "Date         2007-01-03\n",
       "High            12.3686\n",
       "Low                11.7\n",
       "Open            12.3271\n",
       "Close           11.9714\n",
       "Volume       3.0958e+08\n",
       "Adj Close       8.01682\n",
       "Name: 0, dtype: object"
      ]
     },
     "execution_count": 27,
     "metadata": {},
     "output_type": "execute_result"
    }
   ],
   "source": [
    "data.iloc[0]"
   ]
  },
  {
   "cell_type": "code",
   "execution_count": null,
   "metadata": {},
   "outputs": [],
   "source": [
    "import matplotlib.pyplot as plt"
   ]
  }
 ],
 "metadata": {
  "kernelspec": {
   "display_name": "Python 3",
   "language": "python",
   "name": "python3"
  },
  "language_info": {
   "codemirror_mode": {
    "name": "ipython",
    "version": 3
   },
   "file_extension": ".py",
   "mimetype": "text/x-python",
   "name": "python",
   "nbconvert_exporter": "python",
   "pygments_lexer": "ipython3",
   "version": "3.6.6"
  }
 },
 "nbformat": 4,
 "nbformat_minor": 2
}
