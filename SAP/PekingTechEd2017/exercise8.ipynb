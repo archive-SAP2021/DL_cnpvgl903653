{
 "cells": [
  {
   "cell_type": "code",
   "execution_count": 1,
   "metadata": {},
   "outputs": [
    {
     "name": "stderr",
     "output_type": "stream",
     "text": [
      "Using TensorFlow backend.\n"
     ]
    }
   ],
   "source": [
    "# MNIST, see reference in https://github.com/G-wave/ANN/blob/master/1_MNIST_Softmax_Keras_Base_Line.ipynb\n",
    "import keras\n",
    "from keras.datasets import mnist\n",
    "from keras.models import Sequential\n",
    "from keras.layers import Dense, Activation, Dropout\n",
    "from keras.optimizers import SGD, Adam\n",
    "\n",
    "# Add regularization for avoiding overfitting for parameters\n",
    "# https://keras.io/regularizers/\n",
    "from keras import regularizers"
   ]
  },
  {
   "cell_type": "code",
   "execution_count": 2,
   "metadata": {
    "collapsed": true
   },
   "outputs": [],
   "source": [
    "# Hyperparameters\n",
    "NB_EPOCHS = 100\n",
    "BATCH_SIZE = 128 # 128 test cases: 2^x\n",
    "NB_CLASSES = 10 # target categories \n",
    "VALIDATION_SPLIT = 0.2"
   ]
  },
  {
   "cell_type": "code",
   "execution_count": 3,
   "metadata": {
    "collapsed": true
   },
   "outputs": [],
   "source": [
    "# Load Data\n",
    "(X_train, y_train),(X_test, y_test) = mnist.load_data()"
   ]
  },
  {
   "cell_type": "code",
   "execution_count": 4,
   "metadata": {},
   "outputs": [
    {
     "name": "stdout",
     "output_type": "stream",
     "text": [
      "(60000, 28, 28)\n",
      "(60000,)\n"
     ]
    }
   ],
   "source": [
    "print(X_train.shape)\n",
    "print(y_train.shape)"
   ]
  },
  {
   "cell_type": "code",
   "execution_count": 5,
   "metadata": {
    "collapsed": true
   },
   "outputs": [],
   "source": [
    "# flatten to input of MNIST\n",
    "valid_row_num = X_train.shape[0]\n",
    "test_row_num = X_test.shape[0]\n",
    "column_size = X_train.shape[1] ** 2\n",
    "X_train = X_train.reshape(valid_row_num, column_size)\n",
    "X_test = X_test.reshape(test_row_num, column_size)\n",
    "X_train = X_train.astype('float32')\n",
    "X_test = X_test.astype('float32')"
   ]
  },
  {
   "cell_type": "code",
   "execution_count": 6,
   "metadata": {},
   "outputs": [
    {
     "name": "stdout",
     "output_type": "stream",
     "text": [
      "784\n",
      "60000\n",
      "10000\n"
     ]
    }
   ],
   "source": [
    "print(column_size)\n",
    "print(valid_row_num)\n",
    "print(test_row_num)"
   ]
  },
  {
   "cell_type": "code",
   "execution_count": 7,
   "metadata": {
    "collapsed": true
   },
   "outputs": [],
   "source": [
    "# normalization\n",
    "X_train /= 255\n",
    "X_test /= 255"
   ]
  },
  {
   "cell_type": "code",
   "execution_count": 8,
   "metadata": {
    "collapsed": true
   },
   "outputs": [],
   "source": [
    "# Convert class into one-hot encoding\n",
    "Y_train = keras.utils.to_categorical(y_train, NB_CLASSES)\n",
    "Y_test = keras.utils.to_categorical(y_test, NB_CLASSES)"
   ]
  },
  {
   "cell_type": "code",
   "execution_count": 9,
   "metadata": {
    "collapsed": true
   },
   "outputs": [],
   "source": [
    "# Build the model\n",
    "model = Sequential()\n",
    "model.add(Dense(512, activation='relu', input_shape=(column_size,)))\n",
    "model.add(Dropout(0.2))\n",
    "model.add(Dense(512, activation='relu'))\n",
    "model.add(Dense(512, activation='relu'))\n",
    "model.add(Dropout(0.2))\n",
    "model.add(Dense(10, activation='softmax'))"
   ]
  },
  {
   "cell_type": "code",
   "execution_count": 10,
   "metadata": {
    "collapsed": true
   },
   "outputs": [],
   "source": [
    "# accuracy\n",
    "# kernel_regularizer=regularizers.l2(0.01)\n",
    "model.compile(loss='categorical_crossentropy',kernel_regularizer=regularizers.l2(0.02), optimizer=Adam(), metrics=['accuracy'])"
   ]
  },
  {
   "cell_type": "code",
   "execution_count": 11,
   "metadata": {},
   "outputs": [
    {
     "name": "stderr",
     "output_type": "stream",
     "text": [
      "/home/dluser1/miniconda3/lib/python3.6/site-packages/keras/backend/tensorflow_backend.py:2094: UserWarning: Expected no kwargs, you passed 1\n",
      "kwargs passed to function are ignored with Tensorflow backend\n",
      "  warnings.warn('\\n'.join(msg))\n"
     ]
    },
    {
     "name": "stdout",
     "output_type": "stream",
     "text": [
      "Train on 60000 samples, validate on 10000 samples\n",
      "Epoch 1/100\n",
      "60000/60000 [==============================] - 13s - loss: 0.2420 - acc: 0.9267 - val_loss: 0.0980 - val_acc: 0.9691\n",
      "Epoch 2/100\n",
      "60000/60000 [==============================] - 3s - loss: 0.1042 - acc: 0.9681 - val_loss: 0.0683 - val_acc: 0.9787\n",
      "Epoch 3/100\n",
      "60000/60000 [==============================] - 3s - loss: 0.0756 - acc: 0.9761 - val_loss: 0.0761 - val_acc: 0.9776\n",
      "Epoch 4/100\n",
      "60000/60000 [==============================] - 3s - loss: 0.0584 - acc: 0.9815 - val_loss: 0.0698 - val_acc: 0.9787\n",
      "Epoch 5/100\n",
      "60000/60000 [==============================] - 3s - loss: 0.0509 - acc: 0.9836 - val_loss: 0.0710 - val_acc: 0.9794\n",
      "Epoch 6/100\n",
      "60000/60000 [==============================] - 3s - loss: 0.0426 - acc: 0.9868 - val_loss: 0.0650 - val_acc: 0.9821\n",
      "Epoch 7/100\n",
      "60000/60000 [==============================] - 3s - loss: 0.0384 - acc: 0.9878 - val_loss: 0.0723 - val_acc: 0.9819\n",
      "Epoch 8/100\n",
      "60000/60000 [==============================] - 3s - loss: 0.0352 - acc: 0.9881 - val_loss: 0.0978 - val_acc: 0.9753\n",
      "Epoch 9/100\n",
      "60000/60000 [==============================] - 3s - loss: 0.0330 - acc: 0.9892 - val_loss: 0.0655 - val_acc: 0.9829\n",
      "Epoch 10/100\n",
      "60000/60000 [==============================] - 3s - loss: 0.0280 - acc: 0.9911 - val_loss: 0.0625 - val_acc: 0.9840\n",
      "Epoch 11/100\n",
      "60000/60000 [==============================] - 3s - loss: 0.0287 - acc: 0.9910 - val_loss: 0.0691 - val_acc: 0.9821\n",
      "Epoch 12/100\n",
      "60000/60000 [==============================] - 3s - loss: 0.0255 - acc: 0.9917 - val_loss: 0.0751 - val_acc: 0.9813\n",
      "Epoch 13/100\n",
      "60000/60000 [==============================] - 3s - loss: 0.0224 - acc: 0.9930 - val_loss: 0.0642 - val_acc: 0.9847\n",
      "Epoch 14/100\n",
      "60000/60000 [==============================] - 3s - loss: 0.0230 - acc: 0.9926 - val_loss: 0.0752 - val_acc: 0.9827\n",
      "Epoch 15/100\n",
      "60000/60000 [==============================] - 3s - loss: 0.0228 - acc: 0.9929 - val_loss: 0.0773 - val_acc: 0.9838\n",
      "Epoch 16/100\n",
      "60000/60000 [==============================] - 3s - loss: 0.0207 - acc: 0.9934 - val_loss: 0.0717 - val_acc: 0.9835\n",
      "Epoch 17/100\n",
      "60000/60000 [==============================] - 3s - loss: 0.0174 - acc: 0.9944 - val_loss: 0.0708 - val_acc: 0.9842\n",
      "Epoch 18/100\n",
      "60000/60000 [==============================] - 3s - loss: 0.0190 - acc: 0.9940 - val_loss: 0.0733 - val_acc: 0.9840\n",
      "Epoch 19/100\n",
      "60000/60000 [==============================] - 3s - loss: 0.0172 - acc: 0.9946 - val_loss: 0.0804 - val_acc: 0.9840\n",
      "Epoch 20/100\n",
      "60000/60000 [==============================] - 3s - loss: 0.0189 - acc: 0.9939 - val_loss: 0.0726 - val_acc: 0.9837\n",
      "Epoch 21/100\n",
      "60000/60000 [==============================] - 3s - loss: 0.0165 - acc: 0.9948 - val_loss: 0.0638 - val_acc: 0.9854\n",
      "Epoch 22/100\n",
      "60000/60000 [==============================] - 3s - loss: 0.0143 - acc: 0.9953 - val_loss: 0.0722 - val_acc: 0.9855\n",
      "Epoch 23/100\n",
      "60000/60000 [==============================] - 3s - loss: 0.0165 - acc: 0.9951 - val_loss: 0.0894 - val_acc: 0.9829\n",
      "Epoch 24/100\n",
      "60000/60000 [==============================] - 3s - loss: 0.0140 - acc: 0.9956 - val_loss: 0.0780 - val_acc: 0.9837\n",
      "Epoch 25/100\n",
      "60000/60000 [==============================] - 3s - loss: 0.0150 - acc: 0.9958 - val_loss: 0.0904 - val_acc: 0.9829\n",
      "Epoch 26/100\n",
      "60000/60000 [==============================] - 3s - loss: 0.0170 - acc: 0.9949 - val_loss: 0.0725 - val_acc: 0.9849\n",
      "Epoch 27/100\n",
      "60000/60000 [==============================] - 3s - loss: 0.0130 - acc: 0.9959 - val_loss: 0.0799 - val_acc: 0.9850\n",
      "Epoch 28/100\n",
      "60000/60000 [==============================] - 3s - loss: 0.0172 - acc: 0.9953 - val_loss: 0.0802 - val_acc: 0.9833\n",
      "Epoch 29/100\n",
      "60000/60000 [==============================] - 3s - loss: 0.0160 - acc: 0.9953 - val_loss: 0.0684 - val_acc: 0.9852\n",
      "Epoch 30/100\n",
      "60000/60000 [==============================] - 3s - loss: 0.0105 - acc: 0.9968 - val_loss: 0.0779 - val_acc: 0.9836\n",
      "Epoch 31/100\n",
      "60000/60000 [==============================] - 3s - loss: 0.0114 - acc: 0.9965 - val_loss: 0.0864 - val_acc: 0.9831\n",
      "Epoch 32/100\n",
      "60000/60000 [==============================] - 3s - loss: 0.0111 - acc: 0.9967 - val_loss: 0.0827 - val_acc: 0.9852\n",
      "Epoch 33/100\n",
      "60000/60000 [==============================] - 3s - loss: 0.0144 - acc: 0.9958 - val_loss: 0.0851 - val_acc: 0.9831\n",
      "Epoch 34/100\n",
      "60000/60000 [==============================] - 3s - loss: 0.0145 - acc: 0.9958 - val_loss: 0.0755 - val_acc: 0.9856\n",
      "Epoch 35/100\n",
      "60000/60000 [==============================] - 3s - loss: 0.0099 - acc: 0.9970 - val_loss: 0.0776 - val_acc: 0.9850\n",
      "Epoch 36/100\n",
      "60000/60000 [==============================] - 3s - loss: 0.0122 - acc: 0.9961 - val_loss: 0.0872 - val_acc: 0.9835\n",
      "Epoch 37/100\n",
      "60000/60000 [==============================] - 3s - loss: 0.0097 - acc: 0.9970 - val_loss: 0.0896 - val_acc: 0.9856\n",
      "Epoch 38/100\n",
      "60000/60000 [==============================] - 3s - loss: 0.0106 - acc: 0.9969 - val_loss: 0.0763 - val_acc: 0.9858\n",
      "Epoch 39/100\n",
      "60000/60000 [==============================] - 3s - loss: 0.0111 - acc: 0.9969 - val_loss: 0.0781 - val_acc: 0.9852\n",
      "Epoch 40/100\n",
      "60000/60000 [==============================] - 3s - loss: 0.0126 - acc: 0.9963 - val_loss: 0.1012 - val_acc: 0.9828\n",
      "Epoch 41/100\n",
      "60000/60000 [==============================] - 3s - loss: 0.0108 - acc: 0.9969 - val_loss: 0.1046 - val_acc: 0.9831\n",
      "Epoch 42/100\n",
      "60000/60000 [==============================] - 3s - loss: 0.0154 - acc: 0.9959 - val_loss: 0.0925 - val_acc: 0.9812\n",
      "Epoch 43/100\n",
      "60000/60000 [==============================] - 3s - loss: 0.0092 - acc: 0.9974 - val_loss: 0.0990 - val_acc: 0.9848\n",
      "Epoch 44/100\n",
      "60000/60000 [==============================] - 3s - loss: 0.0108 - acc: 0.9969 - val_loss: 0.0923 - val_acc: 0.9844\n",
      "Epoch 45/100\n",
      "60000/60000 [==============================] - 3s - loss: 0.0125 - acc: 0.9965 - val_loss: 0.1023 - val_acc: 0.9821\n",
      "Epoch 46/100\n",
      "60000/60000 [==============================] - 3s - loss: 0.0100 - acc: 0.9973 - val_loss: 0.0881 - val_acc: 0.9867\n",
      "Epoch 47/100\n",
      "60000/60000 [==============================] - 3s - loss: 0.0124 - acc: 0.9968 - val_loss: 0.0930 - val_acc: 0.9838\n",
      "Epoch 48/100\n",
      "60000/60000 [==============================] - 3s - loss: 0.0078 - acc: 0.9978 - val_loss: 0.0866 - val_acc: 0.9846\n",
      "Epoch 49/100\n",
      "60000/60000 [==============================] - 3s - loss: 0.0102 - acc: 0.9970 - val_loss: 0.0870 - val_acc: 0.9853\n",
      "Epoch 50/100\n",
      "60000/60000 [==============================] - 3s - loss: 0.0083 - acc: 0.9976 - val_loss: 0.0973 - val_acc: 0.9845\n",
      "Epoch 51/100\n",
      "60000/60000 [==============================] - 3s - loss: 0.0108 - acc: 0.9971 - val_loss: 0.0953 - val_acc: 0.9844\n",
      "Epoch 52/100\n",
      "60000/60000 [==============================] - 3s - loss: 0.0086 - acc: 0.9975 - val_loss: 0.0969 - val_acc: 0.9846\n",
      "Epoch 53/100\n",
      "60000/60000 [==============================] - 3s - loss: 0.0087 - acc: 0.9975 - val_loss: 0.0875 - val_acc: 0.9850\n",
      "Epoch 54/100\n",
      "60000/60000 [==============================] - 3s - loss: 0.0119 - acc: 0.9971 - val_loss: 0.0922 - val_acc: 0.9829\n",
      "Epoch 55/100\n",
      "60000/60000 [==============================] - 3s - loss: 0.0105 - acc: 0.9973 - val_loss: 0.1265 - val_acc: 0.9819\n",
      "Epoch 56/100\n",
      "60000/60000 [==============================] - 3s - loss: 0.0119 - acc: 0.9969 - val_loss: 0.0945 - val_acc: 0.9849\n",
      "Epoch 57/100\n",
      "60000/60000 [==============================] - 3s - loss: 0.0076 - acc: 0.9977 - val_loss: 0.0941 - val_acc: 0.9861\n",
      "Epoch 58/100\n",
      "60000/60000 [==============================] - 3s - loss: 0.0090 - acc: 0.9976 - val_loss: 0.0938 - val_acc: 0.9865\n",
      "Epoch 59/100\n",
      "60000/60000 [==============================] - 3s - loss: 0.0117 - acc: 0.9973 - val_loss: 0.0856 - val_acc: 0.9854\n",
      "Epoch 60/100\n",
      "60000/60000 [==============================] - 3s - loss: 0.0087 - acc: 0.9973 - val_loss: 0.0947 - val_acc: 0.9855\n",
      "Epoch 61/100\n",
      "60000/60000 [==============================] - 3s - loss: 0.0076 - acc: 0.9981 - val_loss: 0.0973 - val_acc: 0.9850\n",
      "Epoch 62/100\n",
      "60000/60000 [==============================] - 3s - loss: 0.0099 - acc: 0.9975 - val_loss: 0.0947 - val_acc: 0.9857\n",
      "Epoch 63/100\n",
      "60000/60000 [==============================] - 3s - loss: 0.0071 - acc: 0.9979 - val_loss: 0.0969 - val_acc: 0.9842\n",
      "Epoch 64/100\n",
      "60000/60000 [==============================] - 3s - loss: 0.0111 - acc: 0.9972 - val_loss: 0.1095 - val_acc: 0.9833\n",
      "Epoch 65/100\n",
      "60000/60000 [==============================] - 3s - loss: 0.0091 - acc: 0.9975 - val_loss: 0.0989 - val_acc: 0.9852\n",
      "Epoch 66/100\n",
      "60000/60000 [==============================] - 3s - loss: 0.0127 - acc: 0.9971 - val_loss: 0.0941 - val_acc: 0.9863\n",
      "Epoch 67/100\n",
      "60000/60000 [==============================] - 3s - loss: 0.0095 - acc: 0.9977 - val_loss: 0.1012 - val_acc: 0.9834\n",
      "Epoch 68/100\n",
      "60000/60000 [==============================] - 3s - loss: 0.0088 - acc: 0.9977 - val_loss: 0.0962 - val_acc: 0.9855\n",
      "Epoch 69/100\n",
      "60000/60000 [==============================] - 3s - loss: 0.0126 - acc: 0.9973 - val_loss: 0.0932 - val_acc: 0.9842\n",
      "Epoch 70/100\n",
      "60000/60000 [==============================] - 3s - loss: 0.0081 - acc: 0.9977 - val_loss: 0.0903 - val_acc: 0.9864\n",
      "Epoch 71/100\n",
      "60000/60000 [==============================] - 3s - loss: 0.0043 - acc: 0.9990 - val_loss: 0.0881 - val_acc: 0.9872\n",
      "Epoch 72/100\n",
      "60000/60000 [==============================] - 3s - loss: 0.0116 - acc: 0.9972 - val_loss: 0.1175 - val_acc: 0.9835\n",
      "Epoch 73/100\n",
      "60000/60000 [==============================] - 3s - loss: 0.0101 - acc: 0.9977 - val_loss: 0.1036 - val_acc: 0.9856\n",
      "Epoch 74/100\n",
      "60000/60000 [==============================] - 3s - loss: 0.0103 - acc: 0.9975 - val_loss: 0.0985 - val_acc: 0.9852\n",
      "Epoch 75/100\n",
      "60000/60000 [==============================] - 3s - loss: 0.0068 - acc: 0.9983 - val_loss: 0.1024 - val_acc: 0.9855\n",
      "Epoch 76/100\n",
      "60000/60000 [==============================] - 3s - loss: 0.0054 - acc: 0.9984 - val_loss: 0.1141 - val_acc: 0.9842\n",
      "Epoch 77/100\n",
      "60000/60000 [==============================] - 3s - loss: 0.0098 - acc: 0.9978 - val_loss: 0.1096 - val_acc: 0.9848\n",
      "Epoch 78/100\n",
      "60000/60000 [==============================] - 3s - loss: 0.0071 - acc: 0.9981 - val_loss: 0.1139 - val_acc: 0.9867\n",
      "Epoch 79/100\n",
      "60000/60000 [==============================] - 3s - loss: 0.0086 - acc: 0.9983 - val_loss: 0.0986 - val_acc: 0.9865\n",
      "Epoch 80/100\n",
      "60000/60000 [==============================] - 3s - loss: 0.0146 - acc: 0.9970 - val_loss: 0.1164 - val_acc: 0.9853\n",
      "Epoch 81/100\n",
      "60000/60000 [==============================] - 3s - loss: 0.0092 - acc: 0.9978 - val_loss: 0.1084 - val_acc: 0.9844\n",
      "Epoch 82/100\n",
      "60000/60000 [==============================] - 3s - loss: 0.0083 - acc: 0.9982 - val_loss: 0.1116 - val_acc: 0.9849\n",
      "Epoch 83/100\n",
      "60000/60000 [==============================] - 3s - loss: 0.0093 - acc: 0.9977 - val_loss: 0.1159 - val_acc: 0.9851\n",
      "Epoch 84/100\n",
      "60000/60000 [==============================] - 3s - loss: 0.0106 - acc: 0.9978 - val_loss: 0.1074 - val_acc: 0.9847\n",
      "Epoch 85/100\n",
      "60000/60000 [==============================] - 3s - loss: 0.0080 - acc: 0.9981 - val_loss: 0.1098 - val_acc: 0.9855\n",
      "Epoch 86/100\n",
      "60000/60000 [==============================] - 3s - loss: 0.0082 - acc: 0.9981 - val_loss: 0.1147 - val_acc: 0.9841\n",
      "Epoch 87/100\n",
      "60000/60000 [==============================] - 3s - loss: 0.0101 - acc: 0.9980 - val_loss: 0.1318 - val_acc: 0.9828\n",
      "Epoch 88/100\n",
      "60000/60000 [==============================] - 3s - loss: 0.0074 - acc: 0.9983 - val_loss: 0.1028 - val_acc: 0.9861\n",
      "Epoch 89/100\n",
      "60000/60000 [==============================] - 3s - loss: 0.0083 - acc: 0.9980 - val_loss: 0.1109 - val_acc: 0.9848\n",
      "Epoch 90/100\n",
      "60000/60000 [==============================] - 3s - loss: 0.0082 - acc: 0.9980 - val_loss: 0.1395 - val_acc: 0.9833\n",
      "Epoch 91/100\n",
      "60000/60000 [==============================] - 3s - loss: 0.0057 - acc: 0.9985 - val_loss: 0.1284 - val_acc: 0.9846\n",
      "Epoch 92/100\n",
      "60000/60000 [==============================] - 3s - loss: 0.0132 - acc: 0.9971 - val_loss: 0.1285 - val_acc: 0.9842\n",
      "Epoch 93/100\n",
      "60000/60000 [==============================] - 3s - loss: 0.0096 - acc: 0.9978 - val_loss: 0.1095 - val_acc: 0.9854\n",
      "Epoch 94/100\n",
      "60000/60000 [==============================] - 3s - loss: 0.0077 - acc: 0.9983 - val_loss: 0.1209 - val_acc: 0.9861\n",
      "Epoch 95/100\n",
      "60000/60000 [==============================] - 3s - loss: 0.0077 - acc: 0.9982 - val_loss: 0.1376 - val_acc: 0.9839\n",
      "Epoch 96/100\n",
      "60000/60000 [==============================] - 3s - loss: 0.0082 - acc: 0.9981 - val_loss: 0.1184 - val_acc: 0.9849\n",
      "Epoch 97/100\n",
      "60000/60000 [==============================] - 3s - loss: 0.0079 - acc: 0.9983 - val_loss: 0.1134 - val_acc: 0.9850\n",
      "Epoch 98/100\n",
      "60000/60000 [==============================] - 3s - loss: 0.0094 - acc: 0.9977 - val_loss: 0.1258 - val_acc: 0.9847\n",
      "Epoch 99/100\n",
      "60000/60000 [==============================] - 3s - loss: 0.0071 - acc: 0.9983 - val_loss: 0.1216 - val_acc: 0.9842\n",
      "Epoch 100/100\n",
      "60000/60000 [==============================] - 3s - loss: 0.0090 - acc: 0.9982 - val_loss: 0.1125 - val_acc: 0.9857\n"
     ]
    }
   ],
   "source": [
    "history = model.fit(X_train, Y_train, batch_size = BATCH_SIZE, epochs = NB_EPOCHS, verbose = 1, \n",
    "                   validation_data=(X_test,Y_test))"
   ]
  },
  {
   "cell_type": "code",
   "execution_count": 12,
   "metadata": {},
   "outputs": [
    {
     "data": {
      "text/plain": [
       "[0.11251694093217358, 0.98570000000000002]"
      ]
     },
     "execution_count": 12,
     "metadata": {},
     "output_type": "execute_result"
    }
   ],
   "source": [
    "score = model.evaluate(X_test, Y_test, verbose=0)\n",
    "score"
   ]
  },
  {
   "cell_type": "code",
   "execution_count": null,
   "metadata": {
    "collapsed": true
   },
   "outputs": [],
   "source": []
  }
 ],
 "metadata": {
  "kernelspec": {
   "display_name": "Python 3",
   "language": "python",
   "name": "python3"
  },
  "language_info": {
   "codemirror_mode": {
    "name": "ipython",
    "version": 3
   },
   "file_extension": ".py",
   "mimetype": "text/x-python",
   "name": "python",
   "nbconvert_exporter": "python",
   "pygments_lexer": "ipython3",
   "version": "3.6.2"
  }
 },
 "nbformat": 4,
 "nbformat_minor": 2
}
