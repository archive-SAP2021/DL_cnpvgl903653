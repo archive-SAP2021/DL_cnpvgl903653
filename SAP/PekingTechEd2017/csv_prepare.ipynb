{
 "cells": [
  {
   "cell_type": "code",
   "execution_count": 1,
   "metadata": {
    "collapsed": true
   },
   "outputs": [],
   "source": [
    "import pandas as pd\n",
    "# conda install -c anaconda pandas-datareader=0.4.0\n",
    "import pandas_datareader.data as web\n",
    "from datetime import datetime"
   ]
  },
  {
   "cell_type": "code",
   "execution_count": 2,
   "metadata": {
    "collapsed": true
   },
   "outputs": [],
   "source": [
    "start=datetime(2007, 1, 1)\n",
    "end=datetime(2017, 1, 1)\n",
    "# yahoo API not working? so to google\n",
    "source='google'"
   ]
  },
  {
   "cell_type": "code",
   "execution_count": 3,
   "metadata": {},
   "outputs": [
    {
     "name": "stdout",
     "output_type": "stream",
     "text": [
      "<class 'pandas.core.frame.DataFrame'>\n"
     ]
    }
   ],
   "source": [
    "# google stock\n",
    "google = web.DataReader('GOOG', source, start, end)\n",
    "print(type(google))\n",
    "# hmmm... mainland of china block google....sorry\n",
    "google.to_csv('google.csv', sep='\\t', encoding='utf-8')"
   ]
  },
  {
   "cell_type": "code",
   "execution_count": 11,
   "metadata": {
    "collapsed": true
   },
   "outputs": [],
   "source": [
    "# tesla stock\n",
    "tesla = web.DataReader('TSLA', source, start, end)\n",
    "type(tesla)\n",
    "tesla.to_csv('tesla.csv', sep='\\t', encoding='utf-8')"
   ]
  },
  {
   "cell_type": "code",
   "execution_count": 12,
   "metadata": {
    "collapsed": true
   },
   "outputs": [],
   "source": [
    "# apple stock\n",
    "apple = web.DataReader('AAPL', source, start, end)\n",
    "type(apple)\n",
    "apple.to_csv('apple.csv', sep='\\t', encoding='utf-8')"
   ]
  },
  {
   "cell_type": "code",
   "execution_count": null,
   "metadata": {
    "collapsed": true
   },
   "outputs": [],
   "source": [
    "\"Requested_prod_id\",\"Requested_GTIN(EAN/UPC)\",\"Requested_Icecat_id\",\"ErrorMessage\",\"Supplier\",\"Prod_id\",\"Icecat_id\",\"GTIN(EAN/UPC)\",\"Category\",\"CatId\",\"ProductFamily\",\"ProductSeries\",\"Model\",\"Updated\",\"Quality\",\"On_Market\",\"Product_Views\",\"HighPic\",\"HighPic Resolution\",\"LowPic\",\"Pic500x500\",\"ThumbPic\",\"Folder_PDF\",\"Folder_Manual_PDF\",\"ProductTitle\",\"ShortDesc\",\"ShortSummaryDescription\",\"LongSummaryDescription\",\"LongDesc\",\"ProductGallery\",\"ProductGallery Resolution\",\"ProductGallery ExpirationDate\",\"360\",\"EU Energy Label\",\"EU Product Fiche\",\"PDF\",\"Video/mp4\",\"Other Multimedia\",\"ProductMultimediaObject ExpirationDate\",\"ReasonsToBuy\"\n",
    "\"C7098A\",\"\",\"\",\"\",\"HP\",\"C7098A\",\"2203\",\"0088698946497\",\"laser/LED printers\",\"\",\"\",\"\",\"Color LaserJet 8550DN printer\",\"20170609010954\",\"SUPPLIER\",\"1\",\"32150\",\"http://images.icecat.biz/img/norm/high/2203.jpg\",\"190x170\",\"http://images.icecat.biz/img/norm/low/2203.jpg\",\"\",\"http://images.icecat.biz/thumbs/2203.jpg\",\"\",\"\",\"HP Color LaserJet 8550DN printer\",\"\",\"HP Color LaserJet 8550DN printer\",\"HP Color LaserJet 8550DN printer\",\"Fully configured model. Ideal for both general office users and power users in medium/large networked departments. Need for time-critical, high value document production in-house.\",\"http://images.icecat.biz/img/norm/high/2203.jpg\",\"190x170\",\"\",\"\",\"\",\"\",\"\",\"\",\"\",\"\",\"\""
   ]
  }
 ],
 "metadata": {
  "kernelspec": {
   "display_name": "Python 3",
   "language": "python",
   "name": "python3"
  },
  "language_info": {
   "codemirror_mode": {
    "name": "ipython",
    "version": 3
   },
   "file_extension": ".py",
   "mimetype": "text/x-python",
   "name": "python",
   "nbconvert_exporter": "python",
   "pygments_lexer": "ipython3",
   "version": "3.6.2"
  }
 },
 "nbformat": 4,
 "nbformat_minor": 2
}
