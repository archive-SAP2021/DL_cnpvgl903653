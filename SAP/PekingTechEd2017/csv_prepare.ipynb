{
 "cells": [
  {
   "cell_type": "code",
   "execution_count": 1,
   "metadata": {},
   "outputs": [],
   "source": [
    "import pandas as pd\n",
    "# conda install -c anaconda pandas-datareader=0.4.0\n",
    "pd.core.common.is_list_like = pd.api.types.is_list_like\n",
    "import pandas_datareader.data as web\n",
    "from datetime import datetime"
   ]
  },
  {
   "cell_type": "code",
   "execution_count": 2,
   "metadata": {},
   "outputs": [],
   "source": [
    "start=datetime(2007, 1, 1)\n",
    "end=datetime(2018, 11, 29)\n",
    "# yahoo API not working? so to google\n",
    "# https://github.com/pydata/pandas-datareader/issues/587\n",
    "# source='google'\n",
    "source = 'yahoo'"
   ]
  },
  {
   "cell_type": "code",
   "execution_count": 3,
   "metadata": {},
   "outputs": [],
   "source": [
    "stocks = ['BABA', 'MSFT', 'CRM', 'NVDA', 'SAP.DE', 'AAPL', 'GOOGL']\n",
    "for stock_name in stocks:\n",
    "    ustock = web.DataReader(stock_name, source, start, end)\n",
    "    type(ustock)\n",
    "    ustock.to_csv('%s.csv' % (stock_name), sep='\\t', encoding='utf-8')"
   ]
  },
  {
   "cell_type": "code",
   "execution_count": 4,
   "metadata": {},
   "outputs": [],
   "source": [
    "stocks = ['BMW.DE', 'POAHF', 'VOW.DE', 'TSLA', 'LNC']\n",
    "for stock_name in stocks:\n",
    "    ustock = web.DataReader(stock_name, source, start, end)\n",
    "    type(ustock)\n",
    "    ustock.to_csv('%s.csv' % (stock_name), sep='\\t', encoding='utf-8')"
   ]
  },
  {
   "cell_type": "code",
   "execution_count": null,
   "metadata": {},
   "outputs": [],
   "source": []
  }
 ],
 "metadata": {
  "kernelspec": {
   "display_name": "Python 3",
   "language": "python",
   "name": "python3"
  },
  "language_info": {
   "codemirror_mode": {
    "name": "ipython",
    "version": 3
   },
   "file_extension": ".py",
   "mimetype": "text/x-python",
   "name": "python",
   "nbconvert_exporter": "python",
   "pygments_lexer": "ipython3",
   "version": "3.6.6"
  }
 },
 "nbformat": 4,
 "nbformat_minor": 2
}
