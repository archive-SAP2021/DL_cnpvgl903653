{
 "cells": [
  {
   "cell_type": "code",
   "execution_count": 1,
   "metadata": {},
   "outputs": [
    {
     "name": "stderr",
     "output_type": "stream",
     "text": [
      "/home/dluser1/miniconda3/lib/python3.6/site-packages/h5py/__init__.py:36: FutureWarning: Conversion of the second argument of issubdtype from `float` to `np.floating` is deprecated. In future, it will be treated as `np.float64 == np.dtype(float).type`.\n",
      "  from ._conv import register_converters as _register_converters\n"
     ]
    }
   ],
   "source": [
    "import tensorflow as tf\n",
    "import numpy as np\n",
    "import pandas as pd\n",
    "import matplotlib.pyplot as plt\n",
    "from sklearn.model_selection import train_test_split\n",
    "import time"
   ]
  },
  {
   "cell_type": "code",
   "execution_count": 2,
   "metadata": {},
   "outputs": [],
   "source": [
    "\n",
    "def processData(fraction = 1):\n",
    "    buys_name = ['SessionID','TimeStamp','productSku','Price','Quantity']\n",
    "    df_buys = pd.read_csv('../resource/yoochoose-data/yoochoose-buys.dat',names=buys_name,dtype={'productSku':int,'SessionID':int})\n",
    "    df_buys = df_buys[df_buys['Quantity']!=0]\n",
    "\n",
    "    sessionWithbuy = df_buys['SessionID'].unique()\n",
    "    sessionWithbuy = sessionWithbuy[0 : int (fraction * len(sessionWithbuy))]\n",
    "    clicks_names = ['SessionID','TimeStamp','productSku','productCategory']\n",
    "    df_clicks = pd.read_csv('../resource/yoochoose-data/yoochoose-clicks.dat',names=clicks_names,dtype={'productSku':int,'productCategory':str,'SessionID':int})\n",
    "\n",
    "    df_clicks = getDFBySessions(sessionWithbuy, df_clicks, 'count')\n",
    "    df_buys = getDFBySessions(sessionWithbuy, df_buys, 'buy')\n",
    "    df_buys['buy'] = 1\n",
    "\n",
    "    skus = df_clicks.index.unique()\n",
    "    inputholder = pd.Series(np.zeros(skus.size), index=skus)\n",
    "    return df_clicks, df_buys, sessionWithbuy, inputholder\n",
    "\n",
    "\n",
    "def getDFBySessions(sessions, df, new_colum):\n",
    "    df_clicks_count = df[df['SessionID'].isin(sessions)]\n",
    "    df_clicks_count = df_clicks_count.groupby(['SessionID','productSku']).size().reset_index(name=new_colum)\n",
    "    df_clicks_count.set_index('productSku',drop=True,inplace=True)\n",
    "    return df_clicks_count\n",
    "\n",
    "\n",
    "def get_batch(clicks, buys, sessions, min_batch = 1):\n",
    "    total_sess = len(sessions)\n",
    "    # min_batch = total_sess if min_batch ==None else min_batch\n",
    "    for click, buy in zip(clicks.groupby('SessionID'), buys.groupby('SessionID')):\n",
    "        if click[0] != buy[0]:\n",
    "            raise ('sessionId error')\n",
    "\n",
    "        df_x, df_y = click[1], buy[1]\n",
    "        left_x, right_x = inputholder.align(df_x['count'],join='left',fill_value = 0)\n",
    "        left_y, right_y = inputholder.align(df_y['buy'], join='left', fill_value=0)\n",
    "        x, y = right_x.values, right_y.values\n",
    "        index = x.astype(bool)\n",
    "        y = y[index]\n",
    "        yield (np.array([x]), index, y)"
   ]
  },
  {
   "cell_type": "code",
   "execution_count": 4,
   "metadata": {},
   "outputs": [
    {
     "name": "stdout",
     "output_type": "stream",
     "text": [
      "number of session used:234300\n",
      "total time for process data:4138.011507034302\n"
     ]
    }
   ],
   "source": [
    "begin =  time.time()\n",
    "df_clicks, df_buys, sessions, inputholder = processData()\n",
    "print('number of session used:{}'.format(len(sessions)))\n",
    "\n",
    "train_session, test_session = train_test_split(sessions,test_size=0.2)\n",
    "clicks_train, clicks_test = df_clicks[df_clicks['SessionID'].isin(train_session)], df_clicks[df_clicks['SessionID'].isin(test_session)]\n",
    "buys_train, buys_test = df_buys[df_buys['SessionID'].isin(train_session)], df_buys[df_buys['SessionID'].isin(test_session)]\n",
    "\n",
    "train = list(get_batch(clicks_train, buys_train,train_session))\n",
    "test = list(get_batch(clicks_test, buys_test,test_session,min_batch=None))\n",
    "\n",
    "end = time.time()\n",
    "print('total time for process data:{}'.format(end-begin))"
   ]
  },
  {
   "cell_type": "code",
   "execution_count": 5,
   "metadata": {},
   "outputs": [],
   "source": [
    "dimension = 5\n",
    "input = tf.placeholder(dtype = tf.float32,shape=[None,len(inputholder)])\n",
    "input_mask = tf.placeholder(dtype = tf.bool,shape=[None])\n",
    "product_w = tf.Variable(initial_value=tf.truncated_normal(shape=[len(inputholder),dimension]))\n",
    "\n",
    "hidden1 = tf.contrib.layers.fully_connected(inputs = input, num_outputs=50)\n",
    "hidden2 = tf.contrib.layers.fully_connected(inputs = hidden1, num_outputs=50)\n",
    "hidden3 = tf.contrib.layers.fully_connected(inputs = hidden2, num_outputs=50)\n",
    "w_2 = tf.contrib.layers.fully_connected(inputs = hidden1, num_outputs=dimension)\n",
    "w_0 = tf.Variable(initial_value=0.0)\n",
    "select_product_w = tf.boolean_mask(product_w, input_mask)\n",
    "output = tf.reduce_sum(w_2*select_product_w,axis=1) + w_0\n",
    "\n",
    "true_y = tf.placeholder(dtype = tf.float32,shape=[None])\n",
    "cost = tf.nn.relu(output) - output * true_y + tf.log(1 + tf.exp(-tf.abs(output)))\n",
    "cost = tf.reduce_mean(cost)\n",
    "optimizer = tf.train.AdamOptimizer()\n",
    "loss = optimizer.minimize(cost)\n",
    "\n",
    "n_elements = tf.cast(tf.shape(true_y)[0],dtype=tf.float32)\n",
    "match = tf.reduce_sum(tf.abs(tf.round(tf.sigmoid(output)) - true_y))\n",
    "accuracy = 1 - (match / n_elements)"
   ]
  },
  {
   "cell_type": "code",
   "execution_count": 6,
   "metadata": {},
   "outputs": [
    {
     "name": "stdout",
     "output_type": "stream",
     "text": [
      "total training time:4965.745871067047\n",
      "accuracy on training sets:0.5454939007759094\n"
     ]
    }
   ],
   "source": [
    "epoch = 10\n",
    "init = tf.global_variables_initializer()\n",
    "sess = tf.InteractiveSession()\n",
    "init.run()\n",
    "begin = time.time()\n",
    "for i in range(epoch):\n",
    "    average_loss =[]\n",
    "    for clicks, index, buy in train:\n",
    "        _, final_loss = sess.run([loss, cost],feed_dict={input:clicks, true_y: buy, input_mask : index})\n",
    "        average_loss.append(final_loss)\n",
    "end = time.time()\n",
    "print('total training time:{}'.format(end-begin))\n",
    "print('accuracy on training sets:{}'.format(1 - np.average(average_loss)))"
   ]
  },
  {
   "cell_type": "code",
   "execution_count": 7,
   "metadata": {},
   "outputs": [
    {
     "name": "stdout",
     "output_type": "stream",
     "text": [
      "accuracy on test sets:0.5050144791603088\n"
     ]
    }
   ],
   "source": [
    "average_accuracy = []\n",
    "for clicks, index, buy in test:\n",
    "    sess_accuracy, y_hat = sess.run([accuracy, output],feed_dict={input:clicks, true_y: buy, input_mask : index})\n",
    "    average_loss.append(sess_accuracy)\n",
    "print('accuracy on test sets:{}'.format(np.average(average_loss)))\n",
    "sess.close()"
   ]
  },
  {
   "cell_type": "code",
   "execution_count": null,
   "metadata": {},
   "outputs": [],
   "source": []
  }
 ],
 "metadata": {
  "kernelspec": {
   "display_name": "Python 3",
   "language": "python",
   "name": "python3"
  },
  "language_info": {
   "codemirror_mode": {
    "name": "ipython",
    "version": 3
   },
   "file_extension": ".py",
   "mimetype": "text/x-python",
   "name": "python",
   "nbconvert_exporter": "python",
   "pygments_lexer": "ipython3",
   "version": "3.6.4"
  }
 },
 "nbformat": 4,
 "nbformat_minor": 2
}
