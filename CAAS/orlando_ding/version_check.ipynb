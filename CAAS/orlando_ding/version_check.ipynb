{
 "cells": [
  {
   "cell_type": "code",
   "execution_count": 4,
   "metadata": {
    "collapsed": true
   },
   "outputs": [],
   "source": [
    "# package version check-up\n",
    "import sys\n",
    "import pkg_resources"
   ]
  },
  {
   "cell_type": "code",
   "execution_count": 5,
   "metadata": {
    "collapsed": true
   },
   "outputs": [],
   "source": [
    "# print package version\n",
    "def printVersion(package):\n",
    "    print(\"{} version - {}\".format(package, pkg_resources.get_distribution(package).version))"
   ]
  },
  {
   "cell_type": "code",
   "execution_count": 6,
   "metadata": {},
   "outputs": [
    {
     "name": "stdout",
     "output_type": "stream",
     "text": [
      "nltk version - 3.2.4\n",
      "textblob version - 0.12.0\n",
      "gensim version - 2.3.0\n"
     ]
    }
   ],
   "source": [
    "# nltk\n",
    "printVersion(\"nltk\")\n",
    "# textblob\n",
    "printVersion(\"textblob\")\n",
    "# gensim\n",
    "printVersion(\"gensim\")"
   ]
  }
 ],
 "metadata": {
  "kernelspec": {
   "display_name": "Python 3",
   "language": "python",
   "name": "python3"
  },
  "language_info": {
   "codemirror_mode": {
    "name": "ipython",
    "version": 3
   },
   "file_extension": ".py",
   "mimetype": "text/x-python",
   "name": "python",
   "nbconvert_exporter": "python",
   "pygments_lexer": "ipython3",
   "version": "3.6.1"
  }
 },
 "nbformat": 4,
 "nbformat_minor": 2
}
