{
 "cells": [
  {
   "cell_type": "code",
   "execution_count": 1,
   "metadata": {},
   "outputs": [],
   "source": [
    "import nltk\n",
    "nltk.set_proxy('http://proxy.pal.sap.corp:8080')\n",
    "import string"
   ]
  },
  {
   "cell_type": "code",
   "execution_count": 2,
   "metadata": {},
   "outputs": [
    {
     "name": "stderr",
     "output_type": "stream",
     "text": [
      "[nltk_data] Downloading package abc to /home/dluser1/nltk_data...\n",
      "[nltk_data]   Package abc is already up-to-date!\n",
      "[nltk_data] Downloading package conll2007 to\n",
      "[nltk_data]     /home/dluser1/nltk_data...\n",
      "[nltk_data]   Package conll2007 is already up-to-date!\n",
      "[nltk_data] Downloading package punkt to /home/dluser1/nltk_data...\n",
      "[nltk_data]   Unzipping tokenizers/punkt.zip.\n"
     ]
    }
   ],
   "source": [
    "# skip interaction with abc for downloading\n",
    "nltk.download('abc')\n",
    "# skip interaction with conll2007 for downloading\n",
    "nltk.download('conll2007')\n",
    "# skip punkt\n",
    "nltk.download('punkt')\n",
    "from nltk import word_tokenize,sent_tokenize"
   ]
  },
  {
   "cell_type": "code",
   "execution_count": 3,
   "metadata": {},
   "outputs": [
    {
     "name": "stdout",
     "output_type": "stream",
     "text": [
      "300046038  T-Shirt Men Playboard Flower SS black S  4260125825063  Playboard shirts   M34705_N  S   Classic t-shirt from Playboard with front print      \n",
      "['300046038', 'T-Shirt', 'Men', 'Playboard', 'Flower', 'SS', 'black', 'S', '4260125825063', 'Playboard', 'shirts', 'M34705_N', 'S', 'Classic', 't-shirt', 'from', 'Playboard', 'with', 'front', 'print']\n"
     ]
    }
   ],
   "source": [
    "# 不符合”英文标点符号书写规范时“\n",
    "line='300046038;\"T-Shirt Men Playboard Flower SS black S\";4260125825063;;Playboard|shirts|;;M34705_N;;S;;\"Classic t-shirt from Playboard with front print\";;;; '\n",
    "\n",
    "tran1 = str.maketrans('|', ' ')\n",
    "tran2 = str.maketrans(';', ' ')\n",
    "tran3 = str.maketrans('\"', ' ')\n",
    "tran4 = str.maketrans('\"', ' ')\n",
    "tran_line=line.translate(tran1).translate(tran2).translate(tran3).translate(tran4)\n",
    "print (tran_line)\n",
    "\n",
    "spilt_out =  nltk.word_tokenize(tran_line)\n",
    "print (spilt_out)"
   ]
  },
  {
   "cell_type": "code",
   "execution_count": null,
   "metadata": {
    "collapsed": true,
    "jupyter": {
     "outputs_hidden": true
    }
   },
   "outputs": [],
   "source": []
  }
 ],
 "metadata": {
  "kernelspec": {
   "display_name": "Python 3",
   "language": "python",
   "name": "python3"
  },
  "language_info": {
   "codemirror_mode": {
    "name": "ipython",
    "version": 3
   },
   "file_extension": ".py",
   "mimetype": "text/x-python",
   "name": "python",
   "nbconvert_exporter": "python",
   "pygments_lexer": "ipython3",
   "version": "3.8.3"
  }
 },
 "nbformat": 4,
 "nbformat_minor": 4
}
