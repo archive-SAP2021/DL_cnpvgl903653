{
 "cells": [
  {
   "cell_type": "code",
   "execution_count": 1,
   "metadata": {
    "scrolled": false
   },
   "outputs": [
    {
     "name": "stderr",
     "output_type": "stream",
     "text": [
      "/home/dluser1/miniconda3/lib/python3.6/site-packages/h5py/__init__.py:36: FutureWarning: Conversion of the second argument of issubdtype from `float` to `np.floating` is deprecated. In future, it will be treated as `np.float64 == np.dtype(float).type`.\n",
      "  from ._conv import register_converters as _register_converters\n"
     ]
    },
    {
     "name": "stdout",
     "output_type": "stream",
     "text": [
      "1.6.0\n"
     ]
    }
   ],
   "source": [
    "import numpy as np\n",
    "import tensorflow as tf\n",
    "print(tf.__version__)"
   ]
  },
  {
   "cell_type": "markdown",
   "metadata": {},
   "source": [
    "# Puzzle description\n",
    "\n",
    "Question: only cacluation for the existing element for element-wise multiplication, how to implement in tensorflow?\n",
    "\n",
    "$\n",
    "\\begin{pmatrix}\n",
    "1 &  & & 2\\\\ \n",
    "& 3 & & 4 \\\\     \n",
    "5 & 6 & & \n",
    "\\end{pmatrix}\n",
    "$\n",
    "*\n",
    "$\n",
    "\\begin{pmatrix}\n",
    "0.1 &  & & 0.2\\\\ \n",
    "& 0.3 &0.01 & 0.4 \\\\ \n",
    "0.5 & 0.6 & & \n",
    "\\end{pmatrix}\n",
    "$"
   ]
  },
  {
   "cell_type": "markdown",
   "metadata": {},
   "source": [
    "## 1, Sparse representation"
   ]
  },
  {
   "cell_type": "code",
   "execution_count": 2,
   "metadata": {},
   "outputs": [],
   "source": [
    "sparse1 = tf.SparseTensor(indices=[[0, 0], [0, 3], [1, 1], [1, 3], [2, 0], [2, 1]], \n",
    "                values=np.asarray([1.0, 2.0, 3.0, 4.0, 5.0, 6.0], dtype=np.float32), dense_shape=[3, 4])\n",
    "sparse2 = tf.SparseTensor(indices=[[0, 0], [0, 3], [1, 1], [1, 2], [1, 3], [2, 0], [2, 1]], \n",
    "                values=np.asarray([0.1, 0.2, 0.3, 0.01, 0.4, 0.5, 0.6], dtype=np.float32), dense_shape=[3, 4])"
   ]
  },
  {
   "cell_type": "code",
   "execution_count": 3,
   "metadata": {},
   "outputs": [],
   "source": [
    "t1 = tf.cast(tf.cast(sparse1, tf.bool), tf.int32)\n",
    "t2 = tf.cast(tf.cast(sparse2, tf.bool), tf.int32)\n",
    "sparse_mask = tf.sets.set_intersection(t1, t2)"
   ]
  },
  {
   "cell_type": "code",
   "execution_count": 4,
   "metadata": {},
   "outputs": [
    {
     "name": "stdout",
     "output_type": "stream",
     "text": [
      "SparseTensorValue(indices=array([[0, 0],\n",
      "       [0, 3],\n",
      "       [1, 1],\n",
      "       [1, 3],\n",
      "       [2, 0],\n",
      "       [2, 1]]), values=array([1, 1, 1, 1, 1, 1], dtype=int32), dense_shape=array([3, 4]))\n",
      "SparseTensorValue(indices=array([[0, 0],\n",
      "       [0, 3],\n",
      "       [1, 1],\n",
      "       [1, 2],\n",
      "       [1, 3],\n",
      "       [2, 0],\n",
      "       [2, 1]]), values=array([1, 1, 1, 1, 1, 1, 1], dtype=int32), dense_shape=array([3, 4]))\n",
      "SparseTensorValue(indices=array([[0, 0],\n",
      "       [1, 0],\n",
      "       [2, 0]]), values=array([1, 1, 1], dtype=int32), dense_shape=array([3, 1]))\n"
     ]
    }
   ],
   "source": [
    "with tf.Session() as sess:\n",
    "    print(sess.run(t1))\n",
    "    print(sess.run(t2))\n",
    "    print(sess.run(sparse_mask))"
   ]
  },
  {
   "cell_type": "code",
   "execution_count": 5,
   "metadata": {},
   "outputs": [
    {
     "name": "stdout",
     "output_type": "stream",
     "text": [
      "SparseTensorValue(indices=array([[0, 0],\n",
      "       [0, 3],\n",
      "       [1, 1],\n",
      "       [1, 3],\n",
      "       [2, 0],\n",
      "       [2, 1]]), values=array([1, 1, 1, 1, 1, 1], dtype=int32), dense_shape=array([3, 4]))\n",
      "SparseTensorValue(indices=array([[0, 0],\n",
      "       [0, 3],\n",
      "       [1, 1],\n",
      "       [1, 2],\n",
      "       [1, 3],\n",
      "       [2, 0],\n",
      "       [2, 1]]), values=array([1, 1, 1, 1, 1, 1, 1], dtype=int32), dense_shape=array([3, 4]))\n",
      "SparseTensorValue(indices=array([[0, 0],\n",
      "       [1, 0],\n",
      "       [2, 0]]), values=array([1, 1, 1], dtype=int32), dense_shape=array([3, 1]))\n"
     ]
    }
   ],
   "source": [
    "import collections\n",
    "\n",
    "a = collections.OrderedDict([\n",
    "      ((0, 0), 1),\n",
    "      ((0, 3), 1),\n",
    "      ((1, 1), 1),\n",
    "      ((1, 3), 1),\n",
    "      ((2, 0), 1),\n",
    "      ((2, 1), 1)\n",
    "  ])\n",
    "a = tf.SparseTensor(list(a.keys()), list(a.values()), dense_shape=[3, 4])\n",
    "\n",
    "b = collections.OrderedDict([\n",
    "      ((0, 0), 1),\n",
    "      ((0, 3), 1),\n",
    "      ((1, 1), 1),\n",
    "      ((1, 2), 1),\n",
    "      ((1, 3), 1),\n",
    "      ((2, 0), 1),\n",
    "      ((2, 1), 1)\n",
    "  ])\n",
    "b = tf.SparseTensor(list(b.keys()), list(b.values()), dense_shape=[3, 4])\n",
    "\n",
    "with tf.Session() as sess:\n",
    "    print(sess.run(a))\n",
    "    print(sess.run(b))\n",
    "    print(sess.run(tf.contrib.metrics.set_intersection(a, b)))"
   ]
  },
  {
   "cell_type": "markdown",
   "metadata": {},
   "source": [
    "## 2, Dense representation"
   ]
  },
  {
   "cell_type": "code",
   "execution_count": 6,
   "metadata": {},
   "outputs": [
    {
     "name": "stdout",
     "output_type": "stream",
     "text": [
      "SparseTensorValue(indices=array([[0, 0, 0],\n",
      "       [0, 0, 1],\n",
      "       [0, 1, 0],\n",
      "       [1, 0, 0],\n",
      "       [1, 1, 0],\n",
      "       [1, 1, 1]]), values=array([1, 2, 3, 4, 5, 6], dtype=int32), dense_shape=array([2, 2, 4]))\n",
      "SparseTensorValue(indices=array([[0, 0, 0],\n",
      "       [1, 0, 0],\n",
      "       [1, 1, 0],\n",
      "       [1, 1, 1],\n",
      "       [1, 1, 2],\n",
      "       [1, 1, 3]]), values=array([1, 4, 5, 6, 7, 8], dtype=int32), dense_shape=array([2, 2, 4]))\n",
      "SparseTensorValue(indices=array([[0, 0, 0],\n",
      "       [1, 0, 0],\n",
      "       [1, 1, 0],\n",
      "       [1, 1, 1]]), values=array([1, 4, 5, 6], dtype=int32), dense_shape=array([2, 2, 2]))\n"
     ]
    }
   ],
   "source": [
    "import collections\n",
    "\n",
    "a = collections.OrderedDict([\n",
    "      ((0, 0, 0), 1),\n",
    "      ((0, 0, 1), 2),\n",
    "      ((0, 1, 0), 3),\n",
    "      ((1, 0, 0), 4),\n",
    "      ((1, 1, 0), 5),\n",
    "      ((1, 1, 1), 6),\n",
    "  ])\n",
    "a = tf.SparseTensor(list(a.keys()), list(a.values()), dense_shape=[2,2,4])\n",
    "\n",
    "b = collections.OrderedDict([\n",
    "      ((0, 0, 0), 1),\n",
    "      ((1, 0, 0), 4),\n",
    "      ((1, 1, 0), 5),\n",
    "      ((1, 1, 1), 6),\n",
    "      ((1, 1, 2), 7),\n",
    "      ((1, 1, 3), 8),\n",
    "  ])\n",
    "b = tf.SparseTensor(list(b.keys()), list(b.values()), dense_shape=[2, 2, 4])\n",
    "\n",
    "with tf.Session() as sess:\n",
    "    print(sess.run(a))\n",
    "    print(sess.run(b))\n",
    "    print(sess.run(tf.sets.set_intersection(a, b)))"
   ]
  },
  {
   "cell_type": "code",
   "execution_count": null,
   "metadata": {},
   "outputs": [],
   "source": []
  }
 ],
 "metadata": {
  "kernelspec": {
   "display_name": "Python 3",
   "language": "python",
   "name": "python3"
  },
  "language_info": {
   "codemirror_mode": {
    "name": "ipython",
    "version": 3
   },
   "file_extension": ".py",
   "mimetype": "text/x-python",
   "name": "python",
   "nbconvert_exporter": "python",
   "pygments_lexer": "ipython3",
   "version": "3.6.4"
  }
 },
 "nbformat": 4,
 "nbformat_minor": 2
}
