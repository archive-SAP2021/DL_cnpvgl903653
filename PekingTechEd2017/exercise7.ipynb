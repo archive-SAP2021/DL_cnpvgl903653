{
 "cells": [
  {
   "cell_type": "code",
   "execution_count": 1,
   "metadata": {},
   "outputs": [
    {
     "name": "stderr",
     "output_type": "stream",
     "text": [
      "Using TensorFlow backend.\n"
     ]
    }
   ],
   "source": [
    "# MNIST, see reference in https://github.com/G-wave/ANN/blob/master/1_MNIST_Softmax_Keras_Base_Line.ipynb\n",
    "import keras\n",
    "from keras.datasets import mnist\n",
    "from keras.models import Sequential\n",
    "from keras.layers import Dense, Activation, Dropout\n",
    "from keras.optimizers import SGD\n",
    "\n",
    "# Add regularization for avoiding overfitting for parameters\n",
    "from keras import regularizers\n",
    "\n",
    "# import visualization\n",
    "import matplotlib.pyplot as plt"
   ]
  },
  {
   "cell_type": "code",
   "execution_count": 2,
   "metadata": {
    "collapsed": true
   },
   "outputs": [],
   "source": [
    "# Hyperparameters\n",
    "NB_EPOCHS = 100\n",
    "BATCH_SIZE = 128 # 128 test cases: 2^x\n",
    "NB_CLASSES = 10 # target categories \n",
    "VALIDATION_SPLIT = 0.2"
   ]
  },
  {
   "cell_type": "code",
   "execution_count": 3,
   "metadata": {
    "collapsed": true
   },
   "outputs": [],
   "source": [
    "# Load Data\n",
    "(X_train, y_train),(X_test, y_test) = mnist.load_data()"
   ]
  },
  {
   "cell_type": "code",
   "execution_count": 4,
   "metadata": {},
   "outputs": [
    {
     "name": "stdout",
     "output_type": "stream",
     "text": [
      "(60000, 28, 28)\n",
      "(60000,)\n"
     ]
    }
   ],
   "source": [
    "print(X_train.shape)\n",
    "print(y_train.shape)"
   ]
  },
  {
   "cell_type": "code",
   "execution_count": 5,
   "metadata": {},
   "outputs": [
    {
     "data": {
      "image/png": "[encoded data removed]",
      "text/plain": [
       "<matplotlib.figure.Figure at 0x7f26c7305278>"
      ]
     },
     "metadata": {},
     "output_type": "display_data"
    },
    {
     "data": {
      "image/png": "[encoded data removed]",
      "text/plain": [
       "<matplotlib.figure.Figure at 0x7f26c3fd0160>"
      ]
     },
     "metadata": {},
     "output_type": "display_data"
    },
    {
     "data": {
      "image/png": "[encoded data removed]",
      "text/plain": [
       "<matplotlib.figure.Figure at 0x7f26c7305320>"
      ]
     },
     "metadata": {},
     "output_type": "display_data"
    },
    {
     "data": {
      "image/png": "[encoded data removed]",
      "text/plain": [
       "<matplotlib.figure.Figure at 0x7f26c3e13c50>"
      ]
     },
     "metadata": {},
     "output_type": "display_data"
    }
   ],
   "source": [
    "def displayDigit(source_type, x_input, y_input):\n",
    "    # see reference in https://stackoverflow.com/questions/37228371/visualize-mnist-dataset-using-opencv-or-matplotlib-pyplot\n",
    "    sample_number = 2\n",
    "    for i in range(sample_number):\n",
    "        # Plot\n",
    "        pixels = x_input[i,:]\n",
    "        plt.title('Label is {} in {}'.format(y_input[i], source_type))\n",
    "        plt.imshow(pixels, cmap='gray')\n",
    "        plt.show()\n",
    "displayDigit('train', X_train, y_train)\n",
    "displayDigit('test', X_test, y_test)"
   ]
  },
  {
   "cell_type": "code",
   "execution_count": 6,
   "metadata": {
    "collapsed": true
   },
   "outputs": [],
   "source": [
    "# flatten to input of MNIST\n",
    "valid_row_num = X_train.shape[0]\n",
    "test_row_num = X_test.shape[0]\n",
    "column_size = X_train.shape[1] ** 2\n",
    "X_train = X_train.reshape(valid_row_num, column_size)\n",
    "X_test = X_test.reshape(test_row_num, column_size)\n",
    "X_train = X_train.astype('float32')\n",
    "X_test = X_test.astype('float32')"
   ]
  },
  {
   "cell_type": "code",
   "execution_count": 7,
   "metadata": {},
   "outputs": [
    {
     "name": "stdout",
     "output_type": "stream",
     "text": [
      "784\n",
      "60000\n",
      "10000\n"
     ]
    }
   ],
   "source": [
    "print(column_size)\n",
    "print(valid_row_num)\n",
    "print(test_row_num)"
   ]
  },
  {
   "cell_type": "code",
   "execution_count": 8,
   "metadata": {
    "collapsed": true
   },
   "outputs": [],
   "source": [
    "# normalization\n",
    "X_train /= 255\n",
    "X_test /= 255"
   ]
  },
  {
   "cell_type": "code",
   "execution_count": 9,
   "metadata": {
    "collapsed": true
   },
   "outputs": [],
   "source": [
    "# Convert class into one-hot encoding\n",
    "Y_train = keras.utils.to_categorical(y_train, NB_CLASSES)\n",
    "Y_test = keras.utils.to_categorical(y_test, NB_CLASSES)"
   ]
  },
  {
   "cell_type": "code",
   "execution_count": 10,
   "metadata": {
    "collapsed": true
   },
   "outputs": [],
   "source": [
    "# Build the model\n",
    "model = Sequential()\n",
    "model.add(Dense(NB_CLASSES, input_shape=(column_size,)))\n",
    "model.add(Activation('softmax'))"
   ]
  },
  {
   "cell_type": "code",
   "execution_count": 11,
   "metadata": {
    "collapsed": true
   },
   "outputs": [],
   "source": [
    "# accuracy\n",
    "model.compile(loss='categorical_crossentropy',optimizer=SGD(), metrics=['accuracy'])"
   ]
  },
  {
   "cell_type": "code",
   "execution_count": 12,
   "metadata": {},
   "outputs": [
    {
     "name": "stdout",
     "output_type": "stream",
     "text": [
      "Train on 60000 samples, validate on 10000 samples\n",
      "Epoch 1/100\n",
      "60000/60000 [==============================] - 3s - loss: 1.2832 - acc: 0.6997 - val_loss: 0.8124 - val_acc: 0.8284\n",
      "Epoch 2/100\n",
      "60000/60000 [==============================] - 1s - loss: 0.7188 - acc: 0.8390 - val_loss: 0.6084 - val_acc: 0.8583\n",
      "Epoch 3/100\n",
      "60000/60000 [==============================] - 1s - loss: 0.5891 - acc: 0.8578 - val_loss: 0.5263 - val_acc: 0.8720\n",
      "Epoch 4/100\n",
      "60000/60000 [==============================] - 1s - loss: 0.5267 - acc: 0.8676 - val_loss: 0.4802 - val_acc: 0.8796\n",
      "Epoch 5/100\n",
      "60000/60000 [==============================] - 1s - loss: 0.4887 - acc: 0.8747 - val_loss: 0.4502 - val_acc: 0.8844\n",
      "Epoch 6/100\n",
      "60000/60000 [==============================] - 1s - loss: 0.4626 - acc: 0.8791 - val_loss: 0.4289 - val_acc: 0.8886\n",
      "Epoch 7/100\n",
      "60000/60000 [==============================] - 1s - loss: 0.4434 - acc: 0.8828 - val_loss: 0.4126 - val_acc: 0.8911\n",
      "Epoch 8/100\n",
      "60000/60000 [==============================] - 1s - loss: 0.4283 - acc: 0.8856 - val_loss: 0.3999 - val_acc: 0.8935\n",
      "Epoch 9/100\n",
      "60000/60000 [==============================] - 1s - loss: 0.4163 - acc: 0.8880 - val_loss: 0.3893 - val_acc: 0.8963\n",
      "Epoch 10/100\n",
      "60000/60000 [==============================] - 1s - loss: 0.4062 - acc: 0.8902 - val_loss: 0.3807 - val_acc: 0.8975\n",
      "Epoch 11/100\n",
      "60000/60000 [==============================] - 1s - loss: 0.3977 - acc: 0.8920 - val_loss: 0.3732 - val_acc: 0.8993\n",
      "Epoch 12/100\n",
      "60000/60000 [==============================] - 1s - loss: 0.3905 - acc: 0.8935 - val_loss: 0.3670 - val_acc: 0.9004\n",
      "Epoch 13/100\n",
      "60000/60000 [==============================] - 1s - loss: 0.3840 - acc: 0.8951 - val_loss: 0.3614 - val_acc: 0.9019\n",
      "Epoch 14/100\n",
      "60000/60000 [==============================] - 1s - loss: 0.3784 - acc: 0.8963 - val_loss: 0.3565 - val_acc: 0.9029\n",
      "Epoch 15/100\n",
      "60000/60000 [==============================] - 1s - loss: 0.3734 - acc: 0.8976 - val_loss: 0.3521 - val_acc: 0.9043\n",
      "Epoch 16/100\n",
      "60000/60000 [==============================] - 1s - loss: 0.3689 - acc: 0.8982 - val_loss: 0.3480 - val_acc: 0.9052\n",
      "Epoch 17/100\n",
      "60000/60000 [==============================] - 1s - loss: 0.3648 - acc: 0.8993 - val_loss: 0.3444 - val_acc: 0.9062\n",
      "Epoch 18/100\n",
      "60000/60000 [==============================] - 1s - loss: 0.3610 - acc: 0.9003 - val_loss: 0.3413 - val_acc: 0.9067\n",
      "Epoch 19/100\n",
      "60000/60000 [==============================] - 1s - loss: 0.3576 - acc: 0.9008 - val_loss: 0.3382 - val_acc: 0.9072\n",
      "Epoch 20/100\n",
      "60000/60000 [==============================] - 1s - loss: 0.3545 - acc: 0.9017 - val_loss: 0.3359 - val_acc: 0.9074\n",
      "Epoch 21/100\n",
      "60000/60000 [==============================] - 1s - loss: 0.3516 - acc: 0.9025 - val_loss: 0.3329 - val_acc: 0.9081\n",
      "Epoch 22/100\n",
      "60000/60000 [==============================] - 1s - loss: 0.3488 - acc: 0.9032 - val_loss: 0.3307 - val_acc: 0.9084\n",
      "Epoch 23/100\n",
      "60000/60000 [==============================] - 1s - loss: 0.3463 - acc: 0.9040 - val_loss: 0.3288 - val_acc: 0.9092\n",
      "Epoch 24/100\n",
      "60000/60000 [==============================] - 1s - loss: 0.3439 - acc: 0.9041 - val_loss: 0.3268 - val_acc: 0.9095\n",
      "Epoch 25/100\n",
      "60000/60000 [==============================] - 1s - loss: 0.3417 - acc: 0.9049 - val_loss: 0.3248 - val_acc: 0.9105\n",
      "Epoch 26/100\n",
      "60000/60000 [==============================] - 1s - loss: 0.3396 - acc: 0.9051 - val_loss: 0.3232 - val_acc: 0.9108\n",
      "Epoch 27/100\n",
      "60000/60000 [==============================] - 1s - loss: 0.3376 - acc: 0.9061 - val_loss: 0.3212 - val_acc: 0.9113\n",
      "Epoch 28/100\n",
      "60000/60000 [==============================] - 1s - loss: 0.3358 - acc: 0.9064 - val_loss: 0.3198 - val_acc: 0.9114\n",
      "Epoch 29/100\n",
      "60000/60000 [==============================] - 1s - loss: 0.3340 - acc: 0.9070 - val_loss: 0.3183 - val_acc: 0.9120\n",
      "Epoch 30/100\n",
      "60000/60000 [==============================] - 1s - loss: 0.3323 - acc: 0.9071 - val_loss: 0.3166 - val_acc: 0.9127\n",
      "Epoch 31/100\n",
      "60000/60000 [==============================] - 1s - loss: 0.3307 - acc: 0.9076 - val_loss: 0.3155 - val_acc: 0.9128\n",
      "Epoch 32/100\n",
      "60000/60000 [==============================] - 1s - loss: 0.3292 - acc: 0.9083 - val_loss: 0.3142 - val_acc: 0.9126\n",
      "Epoch 33/100\n",
      "60000/60000 [==============================] - 1s - loss: 0.3277 - acc: 0.9084 - val_loss: 0.3131 - val_acc: 0.9129\n",
      "Epoch 34/100\n",
      "60000/60000 [==============================] - 1s - loss: 0.3263 - acc: 0.9090 - val_loss: 0.3118 - val_acc: 0.9137\n",
      "Epoch 35/100\n",
      "60000/60000 [==============================] - 1s - loss: 0.3250 - acc: 0.9096 - val_loss: 0.3105 - val_acc: 0.9140\n",
      "Epoch 36/100\n",
      "60000/60000 [==============================] - 1s - loss: 0.3237 - acc: 0.9099 - val_loss: 0.3099 - val_acc: 0.9140\n",
      "Epoch 37/100\n",
      "60000/60000 [==============================] - 1s - loss: 0.3225 - acc: 0.9103 - val_loss: 0.3087 - val_acc: 0.9144\n",
      "Epoch 38/100\n",
      "60000/60000 [==============================] - 1s - loss: 0.3214 - acc: 0.9108 - val_loss: 0.3075 - val_acc: 0.9145\n",
      "Epoch 39/100\n",
      "60000/60000 [==============================] - 1s - loss: 0.3202 - acc: 0.9110 - val_loss: 0.3066 - val_acc: 0.9147\n",
      "Epoch 40/100\n",
      "60000/60000 [==============================] - 1s - loss: 0.3191 - acc: 0.9112 - val_loss: 0.3059 - val_acc: 0.9156\n",
      "Epoch 41/100\n",
      "60000/60000 [==============================] - 1s - loss: 0.3180 - acc: 0.9115 - val_loss: 0.3051 - val_acc: 0.9152\n",
      "Epoch 42/100\n",
      "60000/60000 [==============================] - 1s - loss: 0.3170 - acc: 0.9115 - val_loss: 0.3044 - val_acc: 0.9154\n",
      "Epoch 43/100\n",
      "60000/60000 [==============================] - 1s - loss: 0.3160 - acc: 0.9122 - val_loss: 0.3036 - val_acc: 0.9157\n",
      "Epoch 44/100\n",
      "60000/60000 [==============================] - 1s - loss: 0.3151 - acc: 0.9123 - val_loss: 0.3028 - val_acc: 0.9157\n",
      "Epoch 45/100\n",
      "60000/60000 [==============================] - 1s - loss: 0.3142 - acc: 0.9126 - val_loss: 0.3018 - val_acc: 0.9162\n",
      "Epoch 46/100\n",
      "60000/60000 [==============================] - 1s - loss: 0.3133 - acc: 0.9127 - val_loss: 0.3015 - val_acc: 0.9157\n",
      "Epoch 47/100\n",
      "60000/60000 [==============================] - 1s - loss: 0.3125 - acc: 0.9130 - val_loss: 0.3005 - val_acc: 0.9158\n",
      "Epoch 48/100\n",
      "60000/60000 [==============================] - 1s - loss: 0.3116 - acc: 0.9132 - val_loss: 0.2999 - val_acc: 0.9166\n",
      "Epoch 49/100\n",
      "60000/60000 [==============================] - 1s - loss: 0.3108 - acc: 0.9136 - val_loss: 0.2994 - val_acc: 0.9161\n",
      "Epoch 50/100\n",
      "60000/60000 [==============================] - 1s - loss: 0.3101 - acc: 0.9137 - val_loss: 0.2987 - val_acc: 0.9167\n",
      "Epoch 51/100\n",
      "60000/60000 [==============================] - 1s - loss: 0.3093 - acc: 0.9138 - val_loss: 0.2982 - val_acc: 0.9162\n",
      "Epoch 52/100\n",
      "60000/60000 [==============================] - 1s - loss: 0.3086 - acc: 0.9141 - val_loss: 0.2976 - val_acc: 0.9165\n",
      "Epoch 53/100\n",
      "60000/60000 [==============================] - 1s - loss: 0.3079 - acc: 0.9146 - val_loss: 0.2969 - val_acc: 0.9171\n",
      "Epoch 54/100\n",
      "60000/60000 [==============================] - 1s - loss: 0.3071 - acc: 0.9145 - val_loss: 0.2964 - val_acc: 0.9174\n",
      "Epoch 55/100\n",
      "60000/60000 [==============================] - 1s - loss: 0.3065 - acc: 0.9147 - val_loss: 0.2959 - val_acc: 0.9179\n",
      "Epoch 56/100\n",
      "60000/60000 [==============================] - 1s - loss: 0.3058 - acc: 0.9152 - val_loss: 0.2957 - val_acc: 0.9179\n",
      "Epoch 57/100\n",
      "60000/60000 [==============================] - 1s - loss: 0.3052 - acc: 0.9153 - val_loss: 0.2950 - val_acc: 0.9182\n",
      "Epoch 58/100\n",
      "60000/60000 [==============================] - 1s - loss: 0.3046 - acc: 0.9153 - val_loss: 0.2945 - val_acc: 0.9182\n",
      "Epoch 59/100\n",
      "60000/60000 [==============================] - 1s - loss: 0.3039 - acc: 0.9155 - val_loss: 0.2939 - val_acc: 0.9186\n",
      "Epoch 60/100\n",
      "60000/60000 [==============================] - 1s - loss: 0.3033 - acc: 0.9155 - val_loss: 0.2937 - val_acc: 0.9188\n",
      "Epoch 61/100\n",
      "60000/60000 [==============================] - 1s - loss: 0.3027 - acc: 0.9160 - val_loss: 0.2930 - val_acc: 0.9188\n",
      "Epoch 62/100\n",
      "60000/60000 [==============================] - 1s - loss: 0.3022 - acc: 0.9158 - val_loss: 0.2928 - val_acc: 0.9183\n",
      "Epoch 63/100\n",
      "60000/60000 [==============================] - 1s - loss: 0.3016 - acc: 0.9163 - val_loss: 0.2925 - val_acc: 0.9183\n",
      "Epoch 64/100\n",
      "60000/60000 [==============================] - 1s - loss: 0.3011 - acc: 0.9161 - val_loss: 0.2918 - val_acc: 0.9186\n",
      "Epoch 65/100\n",
      "60000/60000 [==============================] - 1s - loss: 0.3005 - acc: 0.9164 - val_loss: 0.2914 - val_acc: 0.9184\n",
      "Epoch 66/100\n",
      "60000/60000 [==============================] - 1s - loss: 0.3000 - acc: 0.9166 - val_loss: 0.2911 - val_acc: 0.9194\n",
      "Epoch 67/100\n",
      "60000/60000 [==============================] - 1s - loss: 0.2996 - acc: 0.9167 - val_loss: 0.2909 - val_acc: 0.9191\n",
      "Epoch 68/100\n",
      "60000/60000 [==============================] - 1s - loss: 0.2990 - acc: 0.9166 - val_loss: 0.2906 - val_acc: 0.9189\n",
      "Epoch 69/100\n",
      "60000/60000 [==============================] - 1s - loss: 0.2986 - acc: 0.9167 - val_loss: 0.2901 - val_acc: 0.9190\n",
      "Epoch 70/100\n",
      "60000/60000 [==============================] - 1s - loss: 0.2980 - acc: 0.9171 - val_loss: 0.2898 - val_acc: 0.9191\n",
      "Epoch 71/100\n",
      "60000/60000 [==============================] - 1s - loss: 0.2976 - acc: 0.9169 - val_loss: 0.2894 - val_acc: 0.9189\n",
      "Epoch 72/100\n",
      "60000/60000 [==============================] - 1s - loss: 0.2971 - acc: 0.9173 - val_loss: 0.2890 - val_acc: 0.9187\n",
      "Epoch 73/100\n",
      "60000/60000 [==============================] - 1s - loss: 0.2967 - acc: 0.9173 - val_loss: 0.2887 - val_acc: 0.9195\n",
      "Epoch 74/100\n",
      "60000/60000 [==============================] - 1s - loss: 0.2963 - acc: 0.9172 - val_loss: 0.2883 - val_acc: 0.9194\n",
      "Epoch 75/100\n",
      "60000/60000 [==============================] - 1s - loss: 0.2958 - acc: 0.9174 - val_loss: 0.2883 - val_acc: 0.9190\n",
      "Epoch 76/100\n",
      "60000/60000 [==============================] - 1s - loss: 0.2954 - acc: 0.9175 - val_loss: 0.2880 - val_acc: 0.9188\n",
      "Epoch 77/100\n",
      "60000/60000 [==============================] - 1s - loss: 0.2950 - acc: 0.9177 - val_loss: 0.2876 - val_acc: 0.9191\n",
      "Epoch 78/100\n",
      "60000/60000 [==============================] - 1s - loss: 0.2946 - acc: 0.9177 - val_loss: 0.2872 - val_acc: 0.9188\n",
      "Epoch 79/100\n",
      "60000/60000 [==============================] - 1s - loss: 0.2942 - acc: 0.9181 - val_loss: 0.2869 - val_acc: 0.9194\n",
      "Epoch 80/100\n",
      "60000/60000 [==============================] - 1s - loss: 0.2938 - acc: 0.9181 - val_loss: 0.2869 - val_acc: 0.9192\n",
      "Epoch 81/100\n",
      "60000/60000 [==============================] - 1s - loss: 0.2934 - acc: 0.9183 - val_loss: 0.2864 - val_acc: 0.9194\n",
      "Epoch 82/100\n",
      "60000/60000 [==============================] - 1s - loss: 0.2930 - acc: 0.9180 - val_loss: 0.2864 - val_acc: 0.9200\n",
      "Epoch 83/100\n",
      "60000/60000 [==============================] - 1s - loss: 0.2927 - acc: 0.9184 - val_loss: 0.2860 - val_acc: 0.9194\n",
      "Epoch 84/100\n",
      "60000/60000 [==============================] - 1s - loss: 0.2923 - acc: 0.9184 - val_loss: 0.2857 - val_acc: 0.9198\n",
      "Epoch 85/100\n",
      "60000/60000 [==============================] - 1s - loss: 0.2920 - acc: 0.9185 - val_loss: 0.2854 - val_acc: 0.9198\n",
      "Epoch 86/100\n",
      "60000/60000 [==============================] - 1s - loss: 0.2916 - acc: 0.9187 - val_loss: 0.2850 - val_acc: 0.9201\n",
      "Epoch 87/100\n",
      "60000/60000 [==============================] - 1s - loss: 0.2912 - acc: 0.9187 - val_loss: 0.2849 - val_acc: 0.9197\n",
      "Epoch 88/100\n",
      "60000/60000 [==============================] - 1s - loss: 0.2909 - acc: 0.9188 - val_loss: 0.2850 - val_acc: 0.9197\n",
      "Epoch 89/100\n",
      "60000/60000 [==============================] - 1s - loss: 0.2905 - acc: 0.9188 - val_loss: 0.2847 - val_acc: 0.9203\n",
      "Epoch 90/100\n",
      "60000/60000 [==============================] - 1s - loss: 0.2902 - acc: 0.9188 - val_loss: 0.2842 - val_acc: 0.9204\n",
      "Epoch 91/100\n",
      "60000/60000 [==============================] - 1s - loss: 0.2899 - acc: 0.9188 - val_loss: 0.2838 - val_acc: 0.9199\n",
      "Epoch 92/100\n",
      "60000/60000 [==============================] - 1s - loss: 0.2896 - acc: 0.9194 - val_loss: 0.2841 - val_acc: 0.9205\n",
      "Epoch 93/100\n",
      "60000/60000 [==============================] - 1s - loss: 0.2893 - acc: 0.9191 - val_loss: 0.2838 - val_acc: 0.9206\n",
      "Epoch 94/100\n",
      "60000/60000 [==============================] - 1s - loss: 0.2890 - acc: 0.9193 - val_loss: 0.2836 - val_acc: 0.9204\n",
      "Epoch 95/100\n",
      "60000/60000 [==============================] - 1s - loss: 0.2886 - acc: 0.9194 - val_loss: 0.2834 - val_acc: 0.9204\n",
      "Epoch 96/100\n",
      "60000/60000 [==============================] - 1s - loss: 0.2884 - acc: 0.9196 - val_loss: 0.2828 - val_acc: 0.9207\n",
      "Epoch 97/100\n",
      "60000/60000 [==============================] - 1s - loss: 0.2881 - acc: 0.9194 - val_loss: 0.2829 - val_acc: 0.9207\n",
      "Epoch 98/100\n",
      "60000/60000 [==============================] - 1s - loss: 0.2877 - acc: 0.9197 - val_loss: 0.2829 - val_acc: 0.9208\n",
      "Epoch 99/100\n",
      "60000/60000 [==============================] - 1s - loss: 0.2875 - acc: 0.9197 - val_loss: 0.2824 - val_acc: 0.9206\n",
      "Epoch 100/100\n",
      "60000/60000 [==============================] - 1s - loss: 0.2872 - acc: 0.9199 - val_loss: 0.2822 - val_acc: 0.9200\n"
     ]
    }
   ],
   "source": [
    "history = model.fit(X_train, Y_train, batch_size = BATCH_SIZE, epochs = NB_EPOCHS, verbose = 1, \n",
    "                   validation_data=(X_test,Y_test))"
   ]
  },
  {
   "cell_type": "code",
   "execution_count": 16,
   "metadata": {},
   "outputs": [
    {
     "data": {
      "text/plain": [
       "[0.28219739111065867, 0.92000000000000004]"
      ]
     },
     "execution_count": 16,
     "metadata": {},
     "output_type": "execute_result"
    }
   ],
   "source": [
    "score = model.evaluate(X_test, Y_test, verbose=0)\n",
    "score"
   ]
  },
  {
   "cell_type": "code",
   "execution_count": 17,
   "metadata": {},
   "outputs": [],
   "source": [
    "import os\n",
    "# save model - https://github.com/fchollet/keras/issues/4875\n",
    "# example - https://github.com/fchollet/keras/blob/master/examples/cifar10_cnn.py\n",
    "save_dir = os.path.join(os.getcwd(), 'models')\n",
    "model_name = 'keras_minst_1layer_softmax_trained_model.h5'\n",
    "# Save model and weights\n",
    "if not os.path.isdir(save_dir):\n",
    "    os.makedirs(save_dir)\n",
    "model_path = os.path.join(save_dir, model_name)\n",
    "model.save(model_path)\n",
    "del model"
   ]
  },
  {
   "cell_type": "code",
   "execution_count": 18,
   "metadata": {},
   "outputs": [
    {
     "data": {
      "text/plain": [
       "True"
      ]
     },
     "execution_count": 18,
     "metadata": {},
     "output_type": "execute_result"
    }
   ],
   "source": [
    "from keras.models import load_model\n",
    "model = load_model(model_path)\n",
    "score_by_reload = model.evaluate(X_test, Y_test, verbose=0)\n",
    "score == score_by_reload"
   ]
  },
  {
   "cell_type": "code",
   "execution_count": null,
   "metadata": {
    "collapsed": true
   },
   "outputs": [],
   "source": []
  }
 ],
 "metadata": {
  "kernelspec": {
   "display_name": "Python 3",
   "language": "python",
   "name": "python3"
  },
  "language_info": {
   "codemirror_mode": {
    "name": "ipython",
    "version": 3
   },
   "file_extension": ".py",
   "mimetype": "text/x-python",
   "name": "python",
   "nbconvert_exporter": "python",
   "pygments_lexer": "ipython3",
   "version": "3.6.1"
  }
 },
 "nbformat": 4,
 "nbformat_minor": 2
}
