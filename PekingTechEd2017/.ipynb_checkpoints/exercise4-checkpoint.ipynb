{
 "cells": [
  {
   "cell_type": "code",
   "execution_count": 1,
   "metadata": {
    "collapsed": true
   },
   "outputs": [],
   "source": [
    "import pandas as pd\n",
    "import numpy as np\n",
    "import matplotlib.pyplot as plt\n",
    "from datetime import datetime"
   ]
  },
  {
   "cell_type": "code",
   "execution_count": 2,
   "metadata": {
    "collapsed": true
   },
   "outputs": [],
   "source": [
    "def readdfout():\n",
    "    # import tabular data IO\n",
    "    temp = './pandas/{}.csv'\n",
    "    apple_stock = pd.read_csv(temp.format('apple'), sep='\\t', parse_dates=['Date'])\n",
    "    apple_stock['Date'] = pd.to_datetime(apple_stock['Date'], errors='coerce')\n",
    "    # operation on original data frame\n",
    "    apple_stock_ts = apple_stock.set_index(['Date'])['Close']\n",
    "    # return tail 20 dates data for close\n",
    "    return apple_stock_ts.tail(21)"
   ]
  },
  {
   "cell_type": "code",
   "execution_count": 3,
   "metadata": {},
   "outputs": [
    {
     "data": {
      "image/png": "[encoded data removed]",
      "text/plain": [
       "<matplotlib.figure.Figure at 0x7f9a849e4e80>"
      ]
     },
     "metadata": {},
     "output_type": "display_data"
    }
   ],
   "source": [
    "apple_stock_ts = readdfout()\n",
    "apple_stock_ts\n",
    "# plot the line\n",
    "apple_stock_ts.plot()\n",
    "plt.show()"
   ]
  },
  {
   "cell_type": "code",
   "execution_count": 4,
   "metadata": {},
   "outputs": [
    {
     "data": {
      "text/plain": [
       "Int64Index([12, 12, 12, 12, 12, 12, 12, 12, 12, 12, 12, 12, 12, 12, 12, 12, 12,\n",
       "            12, 12, 12, 12],\n",
       "           dtype='int64', name='Date')"
      ]
     },
     "execution_count": 4,
     "metadata": {},
     "output_type": "execute_result"
    }
   ],
   "source": [
    "# input value for x, not equal gaps\n",
    "# x=np.arange(apple_stock_ts.size)\n",
    "apple_stock_ts.index.month"
   ]
  },
  {
   "cell_type": "code",
   "execution_count": 5,
   "metadata": {
    "collapsed": true
   },
   "outputs": [],
   "source": [
    "#apple_stock_ts.index"
   ]
  },
  {
   "cell_type": "code",
   "execution_count": 6,
   "metadata": {},
   "outputs": [
    {
     "data": {
      "text/plain": [
       "Int64Index([1, 2, 5, 6, 7, 8, 9, 12, 13, 14, 15, 16, 19, 20, 21, 22, 23, 27,\n",
       "            28, 29, 30],\n",
       "           dtype='int64', name='Date')"
      ]
     },
     "execution_count": 6,
     "metadata": {},
     "output_type": "execute_result"
    }
   ],
   "source": [
    "apple_stock_ts.index.day"
   ]
  },
  {
   "cell_type": "code",
   "execution_count": 7,
   "metadata": {
    "collapsed": true
   },
   "outputs": [],
   "source": [
    "# real output value for x\n",
    "y = apple_stock_ts.values"
   ]
  },
  {
   "cell_type": "code",
   "execution_count": 8,
   "metadata": {
    "collapsed": true
   },
   "outputs": [],
   "source": [
    "#https://stackoverflow.com/questions/15203623/convert-pandas-datetimeindex-to-unix-time\n",
    "x = apple_stock_ts.index.day"
   ]
  },
  {
   "cell_type": "code",
   "execution_count": 9,
   "metadata": {},
   "outputs": [
    {
     "data": {
      "image/png": "[encoded data removed]",
      "text/plain": [
       "<matplotlib.figure.Figure at 0x7f9a846f33c8>"
      ]
     },
     "metadata": {},
     "output_type": "display_data"
    }
   ],
   "source": [
    "plt.plot(x, y, 'ro')\n",
    "plt.show()"
   ]
  },
  {
   "cell_type": "code",
   "execution_count": 10,
   "metadata": {
    "collapsed": true
   },
   "outputs": [],
   "source": [
    "#[x,y]"
   ]
  },
  {
   "cell_type": "code",
   "execution_count": 11,
   "metadata": {
    "collapsed": true
   },
   "outputs": [],
   "source": [
    "x = np.matrix(x).reshape((x.size, 1))\n",
    "x1 = np.insert(x,0,1,axis=1) \n",
    "#x1"
   ]
  },
  {
   "cell_type": "code",
   "execution_count": 12,
   "metadata": {
    "collapsed": true
   },
   "outputs": [],
   "source": [
    "y = np.matrix(y).reshape((y.size, 1)) \n",
    "#y"
   ]
  },
  {
   "cell_type": "code",
   "execution_count": 13,
   "metadata": {
    "collapsed": true
   },
   "outputs": [],
   "source": [
    "theta = np.matrix(np.zeros((2, 1)))  # initialize theta"
   ]
  },
  {
   "cell_type": "code",
   "execution_count": 14,
   "metadata": {},
   "outputs": [
    {
     "name": "stdout",
     "output_type": "stream",
     "text": [
      "(21, 1)\n",
      "(21, 2)\n",
      "(2, 1)\n"
     ]
    }
   ],
   "source": [
    "print(y.shape)\n",
    "print(x1.shape)\n",
    "print(theta.shape)"
   ]
  },
  {
   "cell_type": "code",
   "execution_count": 15,
   "metadata": {},
   "outputs": [
    {
     "data": {
      "text/plain": [
       "(21, 1)"
      ]
     },
     "execution_count": 15,
     "metadata": {},
     "output_type": "execute_result"
    }
   ],
   "source": [
    "(x1*theta).shape"
   ]
  },
  {
   "cell_type": "code",
   "execution_count": 16,
   "metadata": {
    "collapsed": true
   },
   "outputs": [],
   "source": [
    "def grad_descent(x1,y,theta,iter_num,alpha):\n",
    "    m = len(y)\n",
    "    costs=[]\n",
    "    iteration=[]\n",
    "    for i in range(iter_num):\n",
    "\n",
    "        theta += x1.T*(y - x1*theta)*alpha/m\n",
    "        cost = 1/2/m * (x1*theta-y).T*(x1*theta-y)\n",
    "        if (i%10000)==0: \n",
    "            costs.append(cost)\n",
    "            iteration.append(i)\n",
    "            print('iteration = %i, cost = %.8f' %(i,cost)) \n",
    "    return theta, cost, costs, iteration"
   ]
  },
  {
   "cell_type": "code",
   "execution_count": 17,
   "metadata": {},
   "outputs": [
    {
     "name": "stdout",
     "output_type": "stream",
     "text": [
      "iteration = 0, cost = 6219.39484325\n",
      "iteration = 10000, cost = 899.58059086\n",
      "iteration = 20000, cost = 555.19392159\n",
      "iteration = 30000, cost = 342.77427297\n",
      "iteration = 40000, cost = 211.75263030\n",
      "iteration = 50000, cost = 130.93773885\n",
      "iteration = 60000, cost = 81.09065596\n",
      "iteration = 70000, cost = 50.34469285\n",
      "iteration = 80000, cost = 31.38040862\n",
      "iteration = 90000, cost = 19.68313067\n",
      "iteration = 100000, cost = 12.46818336\n",
      "iteration = 110000, cost = 8.01796299\n",
      "iteration = 120000, cost = 5.27304185\n",
      "iteration = 130000, cost = 3.57995895\n",
      "iteration = 140000, cost = 2.53565582\n",
      "iteration = 150000, cost = 1.89152373\n",
      "iteration = 160000, cost = 1.49421941\n",
      "iteration = 170000, cost = 1.24915985\n",
      "iteration = 180000, cost = 1.09800573\n",
      "iteration = 190000, cost = 1.00477301\n"
     ]
    }
   ],
   "source": [
    "# hyper parameters\n",
    "alpha = 0.0001 # learning rate\n",
    "num_epoch = 200000\n",
    "\n",
    "best_theta, best_cost, costs, iteration = grad_descent(x1, y, theta, num_epoch, \n",
    "                               alpha)"
   ]
  },
  {
   "cell_type": "code",
   "execution_count": 18,
   "metadata": {},
   "outputs": [
    {
     "name": "stdout",
     "output_type": "stream",
     "text": [
      "[[ 109.09885793]\n",
      " [   0.32274587]]\n",
      "[[ 0.94727102]]\n"
     ]
    }
   ],
   "source": [
    "print(best_theta)\n",
    "print(best_cost)"
   ]
  },
  {
   "cell_type": "code",
   "execution_count": 19,
   "metadata": {},
   "outputs": [
    {
     "name": "stdout",
     "output_type": "stream",
     "text": [
      "[  6.21939484e+03   8.99580591e+02   5.55193922e+02   3.42774273e+02\n",
      "   2.11752630e+02   1.30937739e+02   8.10906560e+01   5.03446928e+01\n",
      "   3.13804086e+01   1.96831307e+01   1.24681834e+01   8.01796299e+00\n",
      "   5.27304185e+00   3.57995895e+00   2.53565582e+00   1.89152373e+00\n",
      "   1.49421941e+00   1.24915985e+00   1.09800573e+00   1.00477301e+00]\n",
      "[0, 10000, 20000, 30000, 40000, 50000, 60000, 70000, 80000, 90000, 100000, 110000, 120000, 130000, 140000, 150000, 160000, 170000, 180000, 190000]\n"
     ]
    }
   ],
   "source": [
    "print(np.asarray(costs).reshape(-1))\n",
    "print(iteration)"
   ]
  },
  {
   "cell_type": "code",
   "execution_count": 20,
   "metadata": {},
   "outputs": [
    {
     "data": {
      "image/png": "[encoded data removed]",
      "text/plain": [
       "<matplotlib.figure.Figure at 0x7f9a81246710>"
      ]
     },
     "metadata": {},
     "output_type": "display_data"
    }
   ],
   "source": [
    "plt.plot(iteration, np.asarray(costs).reshape(-1), 'ro')\n",
    "plt.show()"
   ]
  },
  {
   "cell_type": "code",
   "execution_count": null,
   "metadata": {
    "collapsed": true
   },
   "outputs": [],
   "source": []
  }
 ],
 "metadata": {
  "kernelspec": {
   "display_name": "Python 3",
   "language": "python",
   "name": "python3"
  },
  "language_info": {
   "codemirror_mode": {
    "name": "ipython",
    "version": 3
   },
   "file_extension": ".py",
   "mimetype": "text/x-python",
   "name": "python",
   "nbconvert_exporter": "python",
   "pygments_lexer": "ipython3",
   "version": "3.6.1"
  }
 },
 "nbformat": 4,
 "nbformat_minor": 2
}
